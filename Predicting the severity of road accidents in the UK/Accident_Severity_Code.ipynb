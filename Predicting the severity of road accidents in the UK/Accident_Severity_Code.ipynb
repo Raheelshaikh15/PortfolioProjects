{
  "nbformat": 4,
  "nbformat_minor": 0,
  "metadata": {
    "colab": {
      "provenance": []
    },
    "kernelspec": {
      "name": "python3",
      "display_name": "Python 3"
    },
    "language_info": {
      "name": "python"
    }
  },
  "cells": [
    {
      "cell_type": "markdown",
      "source": [
        "\n",
        "Student Id : 001245231\n"
      ],
      "metadata": {
        "id": "gWKW9-vMqfxH"
      }
    },
    {
      "cell_type": "markdown",
      "source": [
        "# Installing necessary packages"
      ],
      "metadata": {
        "id": "XVjtYArtXhKQ"
      }
    },
    {
      "cell_type": "code",
      "source": [
        "pip install prince"
      ],
      "metadata": {
        "colab": {
          "base_uri": "https://localhost:8080/",
          "height": 0
        },
        "id": "XATBQalWQWuG",
        "outputId": "47b985d2-75e8-4100-edb6-b1922d9845f4"
      },
      "execution_count": 3,
      "outputs": [
        {
          "output_type": "stream",
          "name": "stdout",
          "text": [
            "Looking in indexes: https://pypi.org/simple, https://us-python.pkg.dev/colab-wheels/public/simple/\n",
            "Requirement already satisfied: prince in /usr/local/lib/python3.9/dist-packages (0.10.0)\n",
            "Requirement already satisfied: scikit-learn<2.0.0,>=1.0.2 in /usr/local/lib/python3.9/dist-packages (from prince) (1.2.2)\n",
            "Requirement already satisfied: altair<5.0.0,>=4.2.2 in /usr/local/lib/python3.9/dist-packages (from prince) (4.2.2)\n",
            "Requirement already satisfied: pandas<2.0.0,>=1.4.1 in /usr/local/lib/python3.9/dist-packages (from prince) (1.4.4)\n",
            "Requirement already satisfied: jinja2 in /usr/local/lib/python3.9/dist-packages (from altair<5.0.0,>=4.2.2->prince) (3.1.2)\n",
            "Requirement already satisfied: toolz in /usr/local/lib/python3.9/dist-packages (from altair<5.0.0,>=4.2.2->prince) (0.12.0)\n",
            "Requirement already satisfied: jsonschema>=3.0 in /usr/local/lib/python3.9/dist-packages (from altair<5.0.0,>=4.2.2->prince) (4.3.3)\n",
            "Requirement already satisfied: numpy in /usr/local/lib/python3.9/dist-packages (from altair<5.0.0,>=4.2.2->prince) (1.22.4)\n",
            "Requirement already satisfied: entrypoints in /usr/local/lib/python3.9/dist-packages (from altair<5.0.0,>=4.2.2->prince) (0.4)\n",
            "Requirement already satisfied: pytz>=2020.1 in /usr/local/lib/python3.9/dist-packages (from pandas<2.0.0,>=1.4.1->prince) (2022.7.1)\n",
            "Requirement already satisfied: python-dateutil>=2.8.1 in /usr/local/lib/python3.9/dist-packages (from pandas<2.0.0,>=1.4.1->prince) (2.8.2)\n",
            "Requirement already satisfied: scipy>=1.3.2 in /usr/local/lib/python3.9/dist-packages (from scikit-learn<2.0.0,>=1.0.2->prince) (1.10.1)\n",
            "Requirement already satisfied: threadpoolctl>=2.0.0 in /usr/local/lib/python3.9/dist-packages (from scikit-learn<2.0.0,>=1.0.2->prince) (3.1.0)\n",
            "Requirement already satisfied: joblib>=1.1.1 in /usr/local/lib/python3.9/dist-packages (from scikit-learn<2.0.0,>=1.0.2->prince) (1.1.1)\n",
            "Requirement already satisfied: pyrsistent!=0.17.0,!=0.17.1,!=0.17.2,>=0.14.0 in /usr/local/lib/python3.9/dist-packages (from jsonschema>=3.0->altair<5.0.0,>=4.2.2->prince) (0.19.3)\n",
            "Requirement already satisfied: attrs>=17.4.0 in /usr/local/lib/python3.9/dist-packages (from jsonschema>=3.0->altair<5.0.0,>=4.2.2->prince) (22.2.0)\n",
            "Requirement already satisfied: six>=1.5 in /usr/local/lib/python3.9/dist-packages (from python-dateutil>=2.8.1->pandas<2.0.0,>=1.4.1->prince) (1.16.0)\n",
            "Requirement already satisfied: MarkupSafe>=2.0 in /usr/local/lib/python3.9/dist-packages (from jinja2->altair<5.0.0,>=4.2.2->prince) (2.1.2)\n"
          ]
        }
      ]
    },
    {
      "cell_type": "code",
      "source": [
        "!pip install scikeras[tensorflow]"
      ],
      "metadata": {
        "colab": {
          "base_uri": "https://localhost:8080/",
          "height": 0
        },
        "id": "5yvjJmNO3VzA",
        "outputId": "2604a3a8-1d71-4582-f538-0737fb03869e"
      },
      "execution_count": 2,
      "outputs": [
        {
          "output_type": "stream",
          "name": "stdout",
          "text": [
            "Looking in indexes: https://pypi.org/simple, https://us-python.pkg.dev/colab-wheels/public/simple/\n",
            "Collecting scikeras[tensorflow]\n",
            "  Downloading scikeras-0.10.0-py3-none-any.whl (27 kB)\n",
            "Requirement already satisfied: packaging>=0.21 in /usr/local/lib/python3.9/dist-packages (from scikeras[tensorflow]) (23.0)\n",
            "Requirement already satisfied: scikit-learn>=1.0.0 in /usr/local/lib/python3.9/dist-packages (from scikeras[tensorflow]) (1.2.2)\n",
            "Requirement already satisfied: tensorflow>=2.11.0 in /usr/local/lib/python3.9/dist-packages (from scikeras[tensorflow]) (2.12.0)\n",
            "Requirement already satisfied: threadpoolctl>=2.0.0 in /usr/local/lib/python3.9/dist-packages (from scikit-learn>=1.0.0->scikeras[tensorflow]) (3.1.0)\n",
            "Requirement already satisfied: numpy>=1.17.3 in /usr/local/lib/python3.9/dist-packages (from scikit-learn>=1.0.0->scikeras[tensorflow]) (1.22.4)\n",
            "Requirement already satisfied: joblib>=1.1.1 in /usr/local/lib/python3.9/dist-packages (from scikit-learn>=1.0.0->scikeras[tensorflow]) (1.1.1)\n",
            "Requirement already satisfied: scipy>=1.3.2 in /usr/local/lib/python3.9/dist-packages (from scikit-learn>=1.0.0->scikeras[tensorflow]) (1.10.1)\n",
            "Requirement already satisfied: jax>=0.3.15 in /usr/local/lib/python3.9/dist-packages (from tensorflow>=2.11.0->scikeras[tensorflow]) (0.4.7)\n",
            "Requirement already satisfied: typing-extensions>=3.6.6 in /usr/local/lib/python3.9/dist-packages (from tensorflow>=2.11.0->scikeras[tensorflow]) (4.5.0)\n",
            "Requirement already satisfied: astunparse>=1.6.0 in /usr/local/lib/python3.9/dist-packages (from tensorflow>=2.11.0->scikeras[tensorflow]) (1.6.3)\n",
            "Requirement already satisfied: gast<=0.4.0,>=0.2.1 in /usr/local/lib/python3.9/dist-packages (from tensorflow>=2.11.0->scikeras[tensorflow]) (0.4.0)\n",
            "Requirement already satisfied: h5py>=2.9.0 in /usr/local/lib/python3.9/dist-packages (from tensorflow>=2.11.0->scikeras[tensorflow]) (3.8.0)\n",
            "Requirement already satisfied: grpcio<2.0,>=1.24.3 in /usr/local/lib/python3.9/dist-packages (from tensorflow>=2.11.0->scikeras[tensorflow]) (1.53.0)\n",
            "Requirement already satisfied: six>=1.12.0 in /usr/local/lib/python3.9/dist-packages (from tensorflow>=2.11.0->scikeras[tensorflow]) (1.16.0)\n",
            "Requirement already satisfied: protobuf!=4.21.0,!=4.21.1,!=4.21.2,!=4.21.3,!=4.21.4,!=4.21.5,<5.0.0dev,>=3.20.3 in /usr/local/lib/python3.9/dist-packages (from tensorflow>=2.11.0->scikeras[tensorflow]) (3.20.3)\n",
            "Requirement already satisfied: tensorflow-estimator<2.13,>=2.12.0 in /usr/local/lib/python3.9/dist-packages (from tensorflow>=2.11.0->scikeras[tensorflow]) (2.12.0)\n",
            "Requirement already satisfied: termcolor>=1.1.0 in /usr/local/lib/python3.9/dist-packages (from tensorflow>=2.11.0->scikeras[tensorflow]) (2.2.0)\n",
            "Requirement already satisfied: libclang>=13.0.0 in /usr/local/lib/python3.9/dist-packages (from tensorflow>=2.11.0->scikeras[tensorflow]) (16.0.0)\n",
            "Requirement already satisfied: wrapt<1.15,>=1.11.0 in /usr/local/lib/python3.9/dist-packages (from tensorflow>=2.11.0->scikeras[tensorflow]) (1.14.1)\n",
            "Requirement already satisfied: flatbuffers>=2.0 in /usr/local/lib/python3.9/dist-packages (from tensorflow>=2.11.0->scikeras[tensorflow]) (23.3.3)\n",
            "Requirement already satisfied: setuptools in /usr/local/lib/python3.9/dist-packages (from tensorflow>=2.11.0->scikeras[tensorflow]) (67.6.1)\n",
            "Requirement already satisfied: tensorflow-io-gcs-filesystem>=0.23.1 in /usr/local/lib/python3.9/dist-packages (from tensorflow>=2.11.0->scikeras[tensorflow]) (0.32.0)\n",
            "Requirement already satisfied: tensorboard<2.13,>=2.12 in /usr/local/lib/python3.9/dist-packages (from tensorflow>=2.11.0->scikeras[tensorflow]) (2.12.1)\n",
            "Requirement already satisfied: absl-py>=1.0.0 in /usr/local/lib/python3.9/dist-packages (from tensorflow>=2.11.0->scikeras[tensorflow]) (1.4.0)\n",
            "Requirement already satisfied: keras<2.13,>=2.12.0 in /usr/local/lib/python3.9/dist-packages (from tensorflow>=2.11.0->scikeras[tensorflow]) (2.12.0)\n",
            "Requirement already satisfied: google-pasta>=0.1.1 in /usr/local/lib/python3.9/dist-packages (from tensorflow>=2.11.0->scikeras[tensorflow]) (0.2.0)\n",
            "Requirement already satisfied: opt-einsum>=2.3.2 in /usr/local/lib/python3.9/dist-packages (from tensorflow>=2.11.0->scikeras[tensorflow]) (3.3.0)\n",
            "Requirement already satisfied: wheel<1.0,>=0.23.0 in /usr/local/lib/python3.9/dist-packages (from astunparse>=1.6.0->tensorflow>=2.11.0->scikeras[tensorflow]) (0.40.0)\n",
            "Requirement already satisfied: ml-dtypes>=0.0.3 in /usr/local/lib/python3.9/dist-packages (from jax>=0.3.15->tensorflow>=2.11.0->scikeras[tensorflow]) (0.0.4)\n",
            "Requirement already satisfied: google-auth-oauthlib<1.1,>=0.5 in /usr/local/lib/python3.9/dist-packages (from tensorboard<2.13,>=2.12->tensorflow>=2.11.0->scikeras[tensorflow]) (1.0.0)\n",
            "Requirement already satisfied: google-auth<3,>=1.6.3 in /usr/local/lib/python3.9/dist-packages (from tensorboard<2.13,>=2.12->tensorflow>=2.11.0->scikeras[tensorflow]) (2.17.1)\n",
            "Requirement already satisfied: werkzeug>=1.0.1 in /usr/local/lib/python3.9/dist-packages (from tensorboard<2.13,>=2.12->tensorflow>=2.11.0->scikeras[tensorflow]) (2.2.3)\n",
            "Requirement already satisfied: tensorboard-data-server<0.8.0,>=0.7.0 in /usr/local/lib/python3.9/dist-packages (from tensorboard<2.13,>=2.12->tensorflow>=2.11.0->scikeras[tensorflow]) (0.7.0)\n",
            "Requirement already satisfied: tensorboard-plugin-wit>=1.6.0 in /usr/local/lib/python3.9/dist-packages (from tensorboard<2.13,>=2.12->tensorflow>=2.11.0->scikeras[tensorflow]) (1.8.1)\n",
            "Requirement already satisfied: markdown>=2.6.8 in /usr/local/lib/python3.9/dist-packages (from tensorboard<2.13,>=2.12->tensorflow>=2.11.0->scikeras[tensorflow]) (3.4.3)\n",
            "Requirement already satisfied: requests<3,>=2.21.0 in /usr/local/lib/python3.9/dist-packages (from tensorboard<2.13,>=2.12->tensorflow>=2.11.0->scikeras[tensorflow]) (2.27.1)\n",
            "Requirement already satisfied: pyasn1-modules>=0.2.1 in /usr/local/lib/python3.9/dist-packages (from google-auth<3,>=1.6.3->tensorboard<2.13,>=2.12->tensorflow>=2.11.0->scikeras[tensorflow]) (0.2.8)\n",
            "Requirement already satisfied: cachetools<6.0,>=2.0.0 in /usr/local/lib/python3.9/dist-packages (from google-auth<3,>=1.6.3->tensorboard<2.13,>=2.12->tensorflow>=2.11.0->scikeras[tensorflow]) (5.3.0)\n",
            "Requirement already satisfied: rsa<5,>=3.1.4 in /usr/local/lib/python3.9/dist-packages (from google-auth<3,>=1.6.3->tensorboard<2.13,>=2.12->tensorflow>=2.11.0->scikeras[tensorflow]) (4.9)\n",
            "Requirement already satisfied: requests-oauthlib>=0.7.0 in /usr/local/lib/python3.9/dist-packages (from google-auth-oauthlib<1.1,>=0.5->tensorboard<2.13,>=2.12->tensorflow>=2.11.0->scikeras[tensorflow]) (1.3.1)\n",
            "Requirement already satisfied: importlib-metadata>=4.4 in /usr/local/lib/python3.9/dist-packages (from markdown>=2.6.8->tensorboard<2.13,>=2.12->tensorflow>=2.11.0->scikeras[tensorflow]) (6.1.0)\n",
            "Requirement already satisfied: certifi>=2017.4.17 in /usr/local/lib/python3.9/dist-packages (from requests<3,>=2.21.0->tensorboard<2.13,>=2.12->tensorflow>=2.11.0->scikeras[tensorflow]) (2022.12.7)\n",
            "Requirement already satisfied: charset-normalizer~=2.0.0 in /usr/local/lib/python3.9/dist-packages (from requests<3,>=2.21.0->tensorboard<2.13,>=2.12->tensorflow>=2.11.0->scikeras[tensorflow]) (2.0.12)\n",
            "Requirement already satisfied: idna<4,>=2.5 in /usr/local/lib/python3.9/dist-packages (from requests<3,>=2.21.0->tensorboard<2.13,>=2.12->tensorflow>=2.11.0->scikeras[tensorflow]) (3.4)\n",
            "Requirement already satisfied: urllib3<1.27,>=1.21.1 in /usr/local/lib/python3.9/dist-packages (from requests<3,>=2.21.0->tensorboard<2.13,>=2.12->tensorflow>=2.11.0->scikeras[tensorflow]) (1.26.15)\n",
            "Requirement already satisfied: MarkupSafe>=2.1.1 in /usr/local/lib/python3.9/dist-packages (from werkzeug>=1.0.1->tensorboard<2.13,>=2.12->tensorflow>=2.11.0->scikeras[tensorflow]) (2.1.2)\n",
            "Requirement already satisfied: zipp>=0.5 in /usr/local/lib/python3.9/dist-packages (from importlib-metadata>=4.4->markdown>=2.6.8->tensorboard<2.13,>=2.12->tensorflow>=2.11.0->scikeras[tensorflow]) (3.15.0)\n",
            "Requirement already satisfied: pyasn1<0.5.0,>=0.4.6 in /usr/local/lib/python3.9/dist-packages (from pyasn1-modules>=0.2.1->google-auth<3,>=1.6.3->tensorboard<2.13,>=2.12->tensorflow>=2.11.0->scikeras[tensorflow]) (0.4.8)\n",
            "Requirement already satisfied: oauthlib>=3.0.0 in /usr/local/lib/python3.9/dist-packages (from requests-oauthlib>=0.7.0->google-auth-oauthlib<1.1,>=0.5->tensorboard<2.13,>=2.12->tensorflow>=2.11.0->scikeras[tensorflow]) (3.2.2)\n",
            "Installing collected packages: scikeras\n",
            "Successfully installed scikeras-0.10.0\n"
          ]
        }
      ]
    },
    {
      "cell_type": "markdown",
      "source": [
        "# Importing all the necessary libraries at start\n"
      ],
      "metadata": {
        "id": "nyPaTI1EXe4w"
      }
    },
    {
      "cell_type": "code",
      "execution_count": 1,
      "metadata": {
        "id": "ZVH-A-CXqOnI"
      },
      "outputs": [],
      "source": [
        "# Load python modules\n",
        "\n",
        "import numpy as np # numpy is a library that allows us to work with vectors and matrices\n",
        "import matplotlib.pyplot as plt # visualisation library\n",
        "import pandas as pd # pandas is a library that allows us to work with DataFrames \n",
        "\n",
        "\n",
        "from sklearn.model_selection import train_test_split\n",
        "from sklearn.linear_model import SGDRegressor, LinearRegression\n",
        "from sklearn.preprocessing import StandardScaler\n",
        "from sklearn.linear_model import SGDClassifier\n",
        "import warnings\n",
        "# Load python modules\n",
        "import numpy as np # numpy is a library that allows us to work with vectors and matrices\n",
        "import matplotlib.pyplot as plt # visualisation library\n",
        "import pandas as pd # pandas is a library that allows us to work with DataFrames \n",
        "from sklearn.model_selection import train_test_split\n",
        "# On some level, dataframes are enhanced matrices where we have assigned names to each\n",
        "# row and each column.\n",
        "from sklearn.impute import SimpleImputer \n",
        "from sklearn.preprocessing import LabelEncoder\n",
        "from sklearn.preprocessing import StandardScaler\n",
        "from sklearn.model_selection import StratifiedKFold, GridSearchCV\n",
        "from sklearn.ensemble import RandomForestClassifier\n",
        "from sklearn.metrics import accuracy_score\n",
        "from sklearn.metrics import classification_report\n",
        "from sklearn import metrics\n",
        "from sklearn.neural_network import MLPClassifier\n",
        "from sklearn.linear_model import SGDClassifier\n",
        "import warnings\n",
        "from imblearn.pipeline import Pipeline as ImbPipeline\n",
        "# On some level, dataframes are enhanced matrices where we have assigned names to each\n",
        "# row and each column.\n"
      ]
    },
    {
      "cell_type": "code",
      "source": [
        "import numpy as np\n",
        "from sklearn.model_selection import GridSearchCV, train_test_split\n",
        "from sklearn.pipeline import Pipeline\n",
        "from sklearn.preprocessing import StandardScaler\n",
        "from sklearn.linear_model import LogisticRegression\n",
        "from sklearn.tree import DecisionTreeClassifier\n",
        "from sklearn.ensemble import RandomForestClassifier\n",
        "from sklearn.svm import SVC\n",
        "from sklearn.metrics import accuracy_score"
      ],
      "metadata": {
        "id": "_yg5SljQ_e2U"
      },
      "execution_count": 2,
      "outputs": []
    },
    {
      "cell_type": "code",
      "source": [
        "from sklearn.linear_model import SGDClassifier\n",
        "from sklearn.preprocessing import StandardScaler\n",
        "from imblearn.over_sampling import RandomOverSampler, SMOTE\n",
        "from sklearn.pipeline import Pipeline\n",
        "from imblearn.pipeline import Pipeline as ImbPipeline\n",
        "from sklearn.metrics import classification_report\n",
        "from sklearn.metrics import ConfusionMatrixDisplay\n",
        "from sklearn.metrics import accuracy_score, accuracy_score\n",
        "from sklearn.model_selection import GridSearchCV, RandomizedSearchCV\n",
        "from sklearn.tree import DecisionTreeClassifier\n",
        "from sklearn.ensemble import RandomForestClassifier\n",
        "from sklearn.svm import LinearSVC\n",
        "from sklearn.neighbors import NearestNeighbors\n",
        "from scipy import stats\n",
        "from sklearn.metrics import balanced_accuracy_score\n",
        "from time import time as tt\n",
        "import numpy as np\n",
        "import pandas as pd\n",
        "import matplotlib.pyplot as plt\n",
        "from sklearn.datasets import fetch_20newsgroups\n",
        "from sklearn.feature_extraction.text import CountVectorizer, TfidfVectorizer\n",
        "np.random.seed(0)"
      ],
      "metadata": {
        "id": "VQhKX_6p_kMj"
      },
      "execution_count": 3,
      "outputs": []
    },
    {
      "cell_type": "code",
      "source": [
        "import numpy as np\n",
        "from sklearn.model_selection import GridSearchCV, train_test_split\n",
        "from sklearn.pipeline import Pipeline\n",
        "from sklearn.preprocessing import StandardScaler\n",
        "from sklearn.linear_model import LogisticRegression\n",
        "from sklearn.tree import DecisionTreeClassifier\n",
        "from sklearn.ensemble import RandomForestClassifier\n",
        "from sklearn.svm import SVC\n",
        "from sklearn.neighbors import KNeighborsClassifier\n",
        "from sklearn.metrics import accuracy_score\n",
        "from sklearn.metrics import classification_report, confusion_matrix"
      ],
      "metadata": {
        "id": "1_bF9olZEKy-"
      },
      "execution_count": 4,
      "outputs": []
    },
    {
      "cell_type": "code",
      "source": [
        "from IPython.display import HTML\n",
        "def pretty_print_df(value_counts_):\n",
        "  \"Quick function to display value counts more nicely\"\n",
        "  display(HTML(pd.DataFrame(value_counts_).to_html()))"
      ],
      "metadata": {
        "id": "_MrrXi_gvrOx"
      },
      "execution_count": 5,
      "outputs": []
    },
    {
      "cell_type": "markdown",
      "source": [
        "Reading in the road accident data "
      ],
      "metadata": {
        "id": "vhpXC4OTq5QB"
      }
    },
    {
      "cell_type": "code",
      "source": [
        "from google.colab import files\n",
        "import io\n",
        "\n",
        "uploaded = files.upload()    # Will prompt you to select file: remember to choose the right one!\n",
        "data = pd.read_csv(io.BytesIO(uploaded['OPTION1_uk_road_accident_2019_coursework_final.csv']))"
      ],
      "metadata": {
        "colab": {
          "base_uri": "https://localhost:8080/",
          "height": 73
        },
        "id": "cP7dEthnq_Nm",
        "outputId": "818e868b-2c4f-4d12-d107-c89b79b4741e"
      },
      "execution_count": 6,
      "outputs": [
        {
          "output_type": "display_data",
          "data": {
            "text/plain": [
              "<IPython.core.display.HTML object>"
            ],
            "text/html": [
              "\n",
              "     <input type=\"file\" id=\"files-684dab36-6423-4958-8f3e-73628088735e\" name=\"files[]\" multiple disabled\n",
              "        style=\"border:none\" />\n",
              "     <output id=\"result-684dab36-6423-4958-8f3e-73628088735e\">\n",
              "      Upload widget is only available when the cell has been executed in the\n",
              "      current browser session. Please rerun this cell to enable.\n",
              "      </output>\n",
              "      <script>// Copyright 2017 Google LLC\n",
              "//\n",
              "// Licensed under the Apache License, Version 2.0 (the \"License\");\n",
              "// you may not use this file except in compliance with the License.\n",
              "// You may obtain a copy of the License at\n",
              "//\n",
              "//      http://www.apache.org/licenses/LICENSE-2.0\n",
              "//\n",
              "// Unless required by applicable law or agreed to in writing, software\n",
              "// distributed under the License is distributed on an \"AS IS\" BASIS,\n",
              "// WITHOUT WARRANTIES OR CONDITIONS OF ANY KIND, either express or implied.\n",
              "// See the License for the specific language governing permissions and\n",
              "// limitations under the License.\n",
              "\n",
              "/**\n",
              " * @fileoverview Helpers for google.colab Python module.\n",
              " */\n",
              "(function(scope) {\n",
              "function span(text, styleAttributes = {}) {\n",
              "  const element = document.createElement('span');\n",
              "  element.textContent = text;\n",
              "  for (const key of Object.keys(styleAttributes)) {\n",
              "    element.style[key] = styleAttributes[key];\n",
              "  }\n",
              "  return element;\n",
              "}\n",
              "\n",
              "// Max number of bytes which will be uploaded at a time.\n",
              "const MAX_PAYLOAD_SIZE = 100 * 1024;\n",
              "\n",
              "function _uploadFiles(inputId, outputId) {\n",
              "  const steps = uploadFilesStep(inputId, outputId);\n",
              "  const outputElement = document.getElementById(outputId);\n",
              "  // Cache steps on the outputElement to make it available for the next call\n",
              "  // to uploadFilesContinue from Python.\n",
              "  outputElement.steps = steps;\n",
              "\n",
              "  return _uploadFilesContinue(outputId);\n",
              "}\n",
              "\n",
              "// This is roughly an async generator (not supported in the browser yet),\n",
              "// where there are multiple asynchronous steps and the Python side is going\n",
              "// to poll for completion of each step.\n",
              "// This uses a Promise to block the python side on completion of each step,\n",
              "// then passes the result of the previous step as the input to the next step.\n",
              "function _uploadFilesContinue(outputId) {\n",
              "  const outputElement = document.getElementById(outputId);\n",
              "  const steps = outputElement.steps;\n",
              "\n",
              "  const next = steps.next(outputElement.lastPromiseValue);\n",
              "  return Promise.resolve(next.value.promise).then((value) => {\n",
              "    // Cache the last promise value to make it available to the next\n",
              "    // step of the generator.\n",
              "    outputElement.lastPromiseValue = value;\n",
              "    return next.value.response;\n",
              "  });\n",
              "}\n",
              "\n",
              "/**\n",
              " * Generator function which is called between each async step of the upload\n",
              " * process.\n",
              " * @param {string} inputId Element ID of the input file picker element.\n",
              " * @param {string} outputId Element ID of the output display.\n",
              " * @return {!Iterable<!Object>} Iterable of next steps.\n",
              " */\n",
              "function* uploadFilesStep(inputId, outputId) {\n",
              "  const inputElement = document.getElementById(inputId);\n",
              "  inputElement.disabled = false;\n",
              "\n",
              "  const outputElement = document.getElementById(outputId);\n",
              "  outputElement.innerHTML = '';\n",
              "\n",
              "  const pickedPromise = new Promise((resolve) => {\n",
              "    inputElement.addEventListener('change', (e) => {\n",
              "      resolve(e.target.files);\n",
              "    });\n",
              "  });\n",
              "\n",
              "  const cancel = document.createElement('button');\n",
              "  inputElement.parentElement.appendChild(cancel);\n",
              "  cancel.textContent = 'Cancel upload';\n",
              "  const cancelPromise = new Promise((resolve) => {\n",
              "    cancel.onclick = () => {\n",
              "      resolve(null);\n",
              "    };\n",
              "  });\n",
              "\n",
              "  // Wait for the user to pick the files.\n",
              "  const files = yield {\n",
              "    promise: Promise.race([pickedPromise, cancelPromise]),\n",
              "    response: {\n",
              "      action: 'starting',\n",
              "    }\n",
              "  };\n",
              "\n",
              "  cancel.remove();\n",
              "\n",
              "  // Disable the input element since further picks are not allowed.\n",
              "  inputElement.disabled = true;\n",
              "\n",
              "  if (!files) {\n",
              "    return {\n",
              "      response: {\n",
              "        action: 'complete',\n",
              "      }\n",
              "    };\n",
              "  }\n",
              "\n",
              "  for (const file of files) {\n",
              "    const li = document.createElement('li');\n",
              "    li.append(span(file.name, {fontWeight: 'bold'}));\n",
              "    li.append(span(\n",
              "        `(${file.type || 'n/a'}) - ${file.size} bytes, ` +\n",
              "        `last modified: ${\n",
              "            file.lastModifiedDate ? file.lastModifiedDate.toLocaleDateString() :\n",
              "                                    'n/a'} - `));\n",
              "    const percent = span('0% done');\n",
              "    li.appendChild(percent);\n",
              "\n",
              "    outputElement.appendChild(li);\n",
              "\n",
              "    const fileDataPromise = new Promise((resolve) => {\n",
              "      const reader = new FileReader();\n",
              "      reader.onload = (e) => {\n",
              "        resolve(e.target.result);\n",
              "      };\n",
              "      reader.readAsArrayBuffer(file);\n",
              "    });\n",
              "    // Wait for the data to be ready.\n",
              "    let fileData = yield {\n",
              "      promise: fileDataPromise,\n",
              "      response: {\n",
              "        action: 'continue',\n",
              "      }\n",
              "    };\n",
              "\n",
              "    // Use a chunked sending to avoid message size limits. See b/62115660.\n",
              "    let position = 0;\n",
              "    do {\n",
              "      const length = Math.min(fileData.byteLength - position, MAX_PAYLOAD_SIZE);\n",
              "      const chunk = new Uint8Array(fileData, position, length);\n",
              "      position += length;\n",
              "\n",
              "      const base64 = btoa(String.fromCharCode.apply(null, chunk));\n",
              "      yield {\n",
              "        response: {\n",
              "          action: 'append',\n",
              "          file: file.name,\n",
              "          data: base64,\n",
              "        },\n",
              "      };\n",
              "\n",
              "      let percentDone = fileData.byteLength === 0 ?\n",
              "          100 :\n",
              "          Math.round((position / fileData.byteLength) * 100);\n",
              "      percent.textContent = `${percentDone}% done`;\n",
              "\n",
              "    } while (position < fileData.byteLength);\n",
              "  }\n",
              "\n",
              "  // All done.\n",
              "  yield {\n",
              "    response: {\n",
              "      action: 'complete',\n",
              "    }\n",
              "  };\n",
              "}\n",
              "\n",
              "scope.google = scope.google || {};\n",
              "scope.google.colab = scope.google.colab || {};\n",
              "scope.google.colab._files = {\n",
              "  _uploadFiles,\n",
              "  _uploadFilesContinue,\n",
              "};\n",
              "})(self);\n",
              "</script> "
            ]
          },
          "metadata": {}
        },
        {
          "output_type": "stream",
          "name": "stdout",
          "text": [
            "Saving OPTION1_uk_road_accident_2019_coursework_final.csv to OPTION1_uk_road_accident_2019_coursework_final.csv\n"
          ]
        }
      ]
    },
    {
      "cell_type": "code",
      "source": [
        "# making a copy of the data set\n",
        "WorkingData = data.copy()"
      ],
      "metadata": {
        "id": "jcbG53Hwrk_s"
      },
      "execution_count": 7,
      "outputs": []
    },
    {
      "cell_type": "markdown",
      "source": [
        "# EDA and Data Quality Assessment "
      ],
      "metadata": {
        "id": "vNcYeyoPrvnu"
      }
    },
    {
      "cell_type": "markdown",
      "source": [
        "checking the dimentions of the data\n"
      ],
      "metadata": {
        "id": "jlQ4CXK_snGW"
      }
    },
    {
      "cell_type": "code",
      "source": [
        "print(WorkingData.shape)"
      ],
      "metadata": {
        "colab": {
          "base_uri": "https://localhost:8080/",
          "height": 0
        },
        "id": "A5vWE2kcsXvj",
        "outputId": "9584cea8-100d-4e7f-b08a-7a8b28c250ea"
      },
      "execution_count": 8,
      "outputs": [
        {
          "output_type": "stream",
          "name": "stdout",
          "text": [
            "(31647, 14)\n"
          ]
        }
      ]
    },
    {
      "cell_type": "markdown",
      "source": [
        "printing the columns"
      ],
      "metadata": {
        "id": "6paYHIkssz54"
      }
    },
    {
      "cell_type": "code",
      "source": [
        "print(WorkingData.columns)"
      ],
      "metadata": {
        "colab": {
          "base_uri": "https://localhost:8080/",
          "height": 0
        },
        "id": "As3dmzxnsvhr",
        "outputId": "ddc99f4e-f054-4a95-fd11-97632f57236d"
      },
      "execution_count": 9,
      "outputs": [
        {
          "output_type": "stream",
          "name": "stdout",
          "text": [
            "Index(['accident_index', 'speed_limit', 'light_conditions',\n",
            "       'weather_conditions', 'road_surface_conditions', 'vehicle_type',\n",
            "       'junction_location', 'skidding_and_overturning',\n",
            "       'vehicle_leaving_carriageway', 'hit_object_off_carriageway',\n",
            "       'first_point_of_impact', 'sex_of_driver', 'age_of_oldest_driver',\n",
            "       'accident_severity'],\n",
            "      dtype='object')\n"
          ]
        }
      ]
    },
    {
      "cell_type": "markdown",
      "source": [
        "displaying the statistical summary"
      ],
      "metadata": {
        "id": "Mwh8f6GIs3D5"
      }
    },
    {
      "cell_type": "code",
      "source": [
        "WorkingData.describe()"
      ],
      "metadata": {
        "colab": {
          "base_uri": "https://localhost:8080/",
          "height": 300
        },
        "id": "mhCoShlHsy71",
        "outputId": "568f6b94-14a6-454f-bf66-4e907df63e53"
      },
      "execution_count": 10,
      "outputs": [
        {
          "output_type": "execute_result",
          "data": {
            "text/plain": [
              "        speed_limit  age_of_oldest_driver\n",
              "count  31647.000000          25197.000000\n",
              "mean      36.572029             47.254038\n",
              "std       13.837362             16.779656\n",
              "min       -1.000000              6.000000\n",
              "25%       30.000000             34.000000\n",
              "50%       30.000000             47.000000\n",
              "75%       40.000000             59.000000\n",
              "max       70.000000            101.000000"
            ],
            "text/html": [
              "\n",
              "  <div id=\"df-4081c595-3aec-4869-be75-59782afbeb3d\">\n",
              "    <div class=\"colab-df-container\">\n",
              "      <div>\n",
              "<style scoped>\n",
              "    .dataframe tbody tr th:only-of-type {\n",
              "        vertical-align: middle;\n",
              "    }\n",
              "\n",
              "    .dataframe tbody tr th {\n",
              "        vertical-align: top;\n",
              "    }\n",
              "\n",
              "    .dataframe thead th {\n",
              "        text-align: right;\n",
              "    }\n",
              "</style>\n",
              "<table border=\"1\" class=\"dataframe\">\n",
              "  <thead>\n",
              "    <tr style=\"text-align: right;\">\n",
              "      <th></th>\n",
              "      <th>speed_limit</th>\n",
              "      <th>age_of_oldest_driver</th>\n",
              "    </tr>\n",
              "  </thead>\n",
              "  <tbody>\n",
              "    <tr>\n",
              "      <th>count</th>\n",
              "      <td>31647.000000</td>\n",
              "      <td>25197.000000</td>\n",
              "    </tr>\n",
              "    <tr>\n",
              "      <th>mean</th>\n",
              "      <td>36.572029</td>\n",
              "      <td>47.254038</td>\n",
              "    </tr>\n",
              "    <tr>\n",
              "      <th>std</th>\n",
              "      <td>13.837362</td>\n",
              "      <td>16.779656</td>\n",
              "    </tr>\n",
              "    <tr>\n",
              "      <th>min</th>\n",
              "      <td>-1.000000</td>\n",
              "      <td>6.000000</td>\n",
              "    </tr>\n",
              "    <tr>\n",
              "      <th>25%</th>\n",
              "      <td>30.000000</td>\n",
              "      <td>34.000000</td>\n",
              "    </tr>\n",
              "    <tr>\n",
              "      <th>50%</th>\n",
              "      <td>30.000000</td>\n",
              "      <td>47.000000</td>\n",
              "    </tr>\n",
              "    <tr>\n",
              "      <th>75%</th>\n",
              "      <td>40.000000</td>\n",
              "      <td>59.000000</td>\n",
              "    </tr>\n",
              "    <tr>\n",
              "      <th>max</th>\n",
              "      <td>70.000000</td>\n",
              "      <td>101.000000</td>\n",
              "    </tr>\n",
              "  </tbody>\n",
              "</table>\n",
              "</div>\n",
              "      <button class=\"colab-df-convert\" onclick=\"convertToInteractive('df-4081c595-3aec-4869-be75-59782afbeb3d')\"\n",
              "              title=\"Convert this dataframe to an interactive table.\"\n",
              "              style=\"display:none;\">\n",
              "        \n",
              "  <svg xmlns=\"http://www.w3.org/2000/svg\" height=\"24px\"viewBox=\"0 0 24 24\"\n",
              "       width=\"24px\">\n",
              "    <path d=\"M0 0h24v24H0V0z\" fill=\"none\"/>\n",
              "    <path d=\"M18.56 5.44l.94 2.06.94-2.06 2.06-.94-2.06-.94-.94-2.06-.94 2.06-2.06.94zm-11 1L8.5 8.5l.94-2.06 2.06-.94-2.06-.94L8.5 2.5l-.94 2.06-2.06.94zm10 10l.94 2.06.94-2.06 2.06-.94-2.06-.94-.94-2.06-.94 2.06-2.06.94z\"/><path d=\"M17.41 7.96l-1.37-1.37c-.4-.4-.92-.59-1.43-.59-.52 0-1.04.2-1.43.59L10.3 9.45l-7.72 7.72c-.78.78-.78 2.05 0 2.83L4 21.41c.39.39.9.59 1.41.59.51 0 1.02-.2 1.41-.59l7.78-7.78 2.81-2.81c.8-.78.8-2.07 0-2.86zM5.41 20L4 18.59l7.72-7.72 1.47 1.35L5.41 20z\"/>\n",
              "  </svg>\n",
              "      </button>\n",
              "      \n",
              "  <style>\n",
              "    .colab-df-container {\n",
              "      display:flex;\n",
              "      flex-wrap:wrap;\n",
              "      gap: 12px;\n",
              "    }\n",
              "\n",
              "    .colab-df-convert {\n",
              "      background-color: #E8F0FE;\n",
              "      border: none;\n",
              "      border-radius: 50%;\n",
              "      cursor: pointer;\n",
              "      display: none;\n",
              "      fill: #1967D2;\n",
              "      height: 32px;\n",
              "      padding: 0 0 0 0;\n",
              "      width: 32px;\n",
              "    }\n",
              "\n",
              "    .colab-df-convert:hover {\n",
              "      background-color: #E2EBFA;\n",
              "      box-shadow: 0px 1px 2px rgba(60, 64, 67, 0.3), 0px 1px 3px 1px rgba(60, 64, 67, 0.15);\n",
              "      fill: #174EA6;\n",
              "    }\n",
              "\n",
              "    [theme=dark] .colab-df-convert {\n",
              "      background-color: #3B4455;\n",
              "      fill: #D2E3FC;\n",
              "    }\n",
              "\n",
              "    [theme=dark] .colab-df-convert:hover {\n",
              "      background-color: #434B5C;\n",
              "      box-shadow: 0px 1px 3px 1px rgba(0, 0, 0, 0.15);\n",
              "      filter: drop-shadow(0px 1px 2px rgba(0, 0, 0, 0.3));\n",
              "      fill: #FFFFFF;\n",
              "    }\n",
              "  </style>\n",
              "\n",
              "      <script>\n",
              "        const buttonEl =\n",
              "          document.querySelector('#df-4081c595-3aec-4869-be75-59782afbeb3d button.colab-df-convert');\n",
              "        buttonEl.style.display =\n",
              "          google.colab.kernel.accessAllowed ? 'block' : 'none';\n",
              "\n",
              "        async function convertToInteractive(key) {\n",
              "          const element = document.querySelector('#df-4081c595-3aec-4869-be75-59782afbeb3d');\n",
              "          const dataTable =\n",
              "            await google.colab.kernel.invokeFunction('convertToInteractive',\n",
              "                                                     [key], {});\n",
              "          if (!dataTable) return;\n",
              "\n",
              "          const docLinkHtml = 'Like what you see? Visit the ' +\n",
              "            '<a target=\"_blank\" href=https://colab.research.google.com/notebooks/data_table.ipynb>data table notebook</a>'\n",
              "            + ' to learn more about interactive tables.';\n",
              "          element.innerHTML = '';\n",
              "          dataTable['output_type'] = 'display_data';\n",
              "          await google.colab.output.renderOutput(dataTable, element);\n",
              "          const docLink = document.createElement('div');\n",
              "          docLink.innerHTML = docLinkHtml;\n",
              "          element.appendChild(docLink);\n",
              "        }\n",
              "      </script>\n",
              "    </div>\n",
              "  </div>\n",
              "  "
            ]
          },
          "metadata": {},
          "execution_count": 10
        }
      ]
    },
    {
      "cell_type": "markdown",
      "source": [
        "Print the top 10 row of the data set\n"
      ],
      "metadata": {
        "id": "dK_F35aruc8G"
      }
    },
    {
      "cell_type": "code",
      "source": [
        "WorkingData.head(10)"
      ],
      "metadata": {
        "colab": {
          "base_uri": "https://localhost:8080/",
          "height": 600
        },
        "id": "J8_A_hnstKiZ",
        "outputId": "92da10ec-f8df-4c47-95cd-30f76bd264fe"
      },
      "execution_count": 11,
      "outputs": [
        {
          "output_type": "execute_result",
          "data": {
            "text/plain": [
              "  accident_index  speed_limit light_conditions weather_conditions  \\\n",
              "0  2019010225080           30         darkness              other   \n",
              "1  2019200908684           30         darkness               fine   \n",
              "2  2019040860897           40         daylight               fine   \n",
              "3  2019460847205           40         daylight               fine   \n",
              "4  2019051911581           30         daylight               fine   \n",
              "5  2019400862270           60         daylight               fine   \n",
              "6  2019420894599           30         darkness               fine   \n",
              "7  2019010162791           50         daylight               fine   \n",
              "8  2019360909153           60         daylight               fine   \n",
              "9  2019500856761           60         daylight               fine   \n",
              "\n",
              "  road_surface_conditions        vehicle_type  \\\n",
              "0             wet or damp    at least one van   \n",
              "1                     dry           only cars   \n",
              "2                     dry           only cars   \n",
              "3                     dry           only cars   \n",
              "4                     dry           only cars   \n",
              "5                     dry  at least one biped   \n",
              "6             wet or damp           only cars   \n",
              "7                     dry           only cars   \n",
              "8                     dry    at least one van   \n",
              "9                     dry           only cars   \n",
              "\n",
              "                        junction_location    skidding_and_overturning  \\\n",
              "0      at or within 20 metres of junction  no skidding or overturning   \n",
              "1      at or within 20 metres of junction  no skidding or overturning   \n",
              "2      at or within 20 metres of junction  no skidding or overturning   \n",
              "3  not at or within 20 metres of junction  no skidding or overturning   \n",
              "4  not at or within 20 metres of junction  no skidding or overturning   \n",
              "5  not at or within 20 metres of junction  no skidding or overturning   \n",
              "6  not at or within 20 metres of junction  no skidding or overturning   \n",
              "7      at or within 20 metres of junction  no skidding or overturning   \n",
              "8      at or within 20 metres of junction  no skidding or overturning   \n",
              "9  not at or within 20 metres of junction  no skidding or overturning   \n",
              "\n",
              "                vehicle_leaving_carriageway  \\\n",
              "0                  none leaving carriageway   \n",
              "1  at least one vehicle leaving carriageway   \n",
              "2                  none leaving carriageway   \n",
              "3                  none leaving carriageway   \n",
              "4                  none leaving carriageway   \n",
              "5                  none leaving carriageway   \n",
              "6                  none leaving carriageway   \n",
              "7                  none leaving carriageway   \n",
              "8                  none leaving carriageway   \n",
              "9  at least one vehicle leaving carriageway   \n",
              "\n",
              "           hit_object_off_carriageway  \\\n",
              "0                  none hit an object   \n",
              "1  at least one vehicle hit an object   \n",
              "2                  none hit an object   \n",
              "3                  none hit an object   \n",
              "4                  none hit an object   \n",
              "5                  none hit an object   \n",
              "6                  none hit an object   \n",
              "7                  none hit an object   \n",
              "8                  none hit an object   \n",
              "9  at least one vehicle hit an object   \n",
              "\n",
              "                      first_point_of_impact                 sex_of_driver  \\\n",
              "0                    other points of impact                     all males   \n",
              "1  at least one vehicle with frontal impact                     all males   \n",
              "2  at least one vehicle with frontal impact  data missing or out of range   \n",
              "3  at least one vehicle with frontal impact               male and female   \n",
              "4  at least one vehicle with frontal impact                   all females   \n",
              "5                    other points of impact               male and female   \n",
              "6  at least one vehicle with frontal impact                     all males   \n",
              "7  at least one vehicle with frontal impact                     all males   \n",
              "8  at least one vehicle with frontal impact                     all males   \n",
              "9  at least one vehicle with frontal impact               male and female   \n",
              "\n",
              "   age_of_oldest_driver accident_severity  \n",
              "0                  63.0           serious  \n",
              "1                  82.0             fatal  \n",
              "2                   NaN           serious  \n",
              "3                   NaN           serious  \n",
              "4                  39.0            slight  \n",
              "5                   NaN           serious  \n",
              "6                  40.0             fatal  \n",
              "7                  57.0            slight  \n",
              "8                  57.0             fatal  \n",
              "9                  60.0             fatal  "
            ],
            "text/html": [
              "\n",
              "  <div id=\"df-332ec78d-cdba-4ba4-a549-544b48ab2bd5\">\n",
              "    <div class=\"colab-df-container\">\n",
              "      <div>\n",
              "<style scoped>\n",
              "    .dataframe tbody tr th:only-of-type {\n",
              "        vertical-align: middle;\n",
              "    }\n",
              "\n",
              "    .dataframe tbody tr th {\n",
              "        vertical-align: top;\n",
              "    }\n",
              "\n",
              "    .dataframe thead th {\n",
              "        text-align: right;\n",
              "    }\n",
              "</style>\n",
              "<table border=\"1\" class=\"dataframe\">\n",
              "  <thead>\n",
              "    <tr style=\"text-align: right;\">\n",
              "      <th></th>\n",
              "      <th>accident_index</th>\n",
              "      <th>speed_limit</th>\n",
              "      <th>light_conditions</th>\n",
              "      <th>weather_conditions</th>\n",
              "      <th>road_surface_conditions</th>\n",
              "      <th>vehicle_type</th>\n",
              "      <th>junction_location</th>\n",
              "      <th>skidding_and_overturning</th>\n",
              "      <th>vehicle_leaving_carriageway</th>\n",
              "      <th>hit_object_off_carriageway</th>\n",
              "      <th>first_point_of_impact</th>\n",
              "      <th>sex_of_driver</th>\n",
              "      <th>age_of_oldest_driver</th>\n",
              "      <th>accident_severity</th>\n",
              "    </tr>\n",
              "  </thead>\n",
              "  <tbody>\n",
              "    <tr>\n",
              "      <th>0</th>\n",
              "      <td>2019010225080</td>\n",
              "      <td>30</td>\n",
              "      <td>darkness</td>\n",
              "      <td>other</td>\n",
              "      <td>wet or damp</td>\n",
              "      <td>at least one van</td>\n",
              "      <td>at or within 20 metres of junction</td>\n",
              "      <td>no skidding or overturning</td>\n",
              "      <td>none leaving carriageway</td>\n",
              "      <td>none hit an object</td>\n",
              "      <td>other points of impact</td>\n",
              "      <td>all males</td>\n",
              "      <td>63.0</td>\n",
              "      <td>serious</td>\n",
              "    </tr>\n",
              "    <tr>\n",
              "      <th>1</th>\n",
              "      <td>2019200908684</td>\n",
              "      <td>30</td>\n",
              "      <td>darkness</td>\n",
              "      <td>fine</td>\n",
              "      <td>dry</td>\n",
              "      <td>only cars</td>\n",
              "      <td>at or within 20 metres of junction</td>\n",
              "      <td>no skidding or overturning</td>\n",
              "      <td>at least one vehicle leaving carriageway</td>\n",
              "      <td>at least one vehicle hit an object</td>\n",
              "      <td>at least one vehicle with frontal impact</td>\n",
              "      <td>all males</td>\n",
              "      <td>82.0</td>\n",
              "      <td>fatal</td>\n",
              "    </tr>\n",
              "    <tr>\n",
              "      <th>2</th>\n",
              "      <td>2019040860897</td>\n",
              "      <td>40</td>\n",
              "      <td>daylight</td>\n",
              "      <td>fine</td>\n",
              "      <td>dry</td>\n",
              "      <td>only cars</td>\n",
              "      <td>at or within 20 metres of junction</td>\n",
              "      <td>no skidding or overturning</td>\n",
              "      <td>none leaving carriageway</td>\n",
              "      <td>none hit an object</td>\n",
              "      <td>at least one vehicle with frontal impact</td>\n",
              "      <td>data missing or out of range</td>\n",
              "      <td>NaN</td>\n",
              "      <td>serious</td>\n",
              "    </tr>\n",
              "    <tr>\n",
              "      <th>3</th>\n",
              "      <td>2019460847205</td>\n",
              "      <td>40</td>\n",
              "      <td>daylight</td>\n",
              "      <td>fine</td>\n",
              "      <td>dry</td>\n",
              "      <td>only cars</td>\n",
              "      <td>not at or within 20 metres of junction</td>\n",
              "      <td>no skidding or overturning</td>\n",
              "      <td>none leaving carriageway</td>\n",
              "      <td>none hit an object</td>\n",
              "      <td>at least one vehicle with frontal impact</td>\n",
              "      <td>male and female</td>\n",
              "      <td>NaN</td>\n",
              "      <td>serious</td>\n",
              "    </tr>\n",
              "    <tr>\n",
              "      <th>4</th>\n",
              "      <td>2019051911581</td>\n",
              "      <td>30</td>\n",
              "      <td>daylight</td>\n",
              "      <td>fine</td>\n",
              "      <td>dry</td>\n",
              "      <td>only cars</td>\n",
              "      <td>not at or within 20 metres of junction</td>\n",
              "      <td>no skidding or overturning</td>\n",
              "      <td>none leaving carriageway</td>\n",
              "      <td>none hit an object</td>\n",
              "      <td>at least one vehicle with frontal impact</td>\n",
              "      <td>all females</td>\n",
              "      <td>39.0</td>\n",
              "      <td>slight</td>\n",
              "    </tr>\n",
              "    <tr>\n",
              "      <th>5</th>\n",
              "      <td>2019400862270</td>\n",
              "      <td>60</td>\n",
              "      <td>daylight</td>\n",
              "      <td>fine</td>\n",
              "      <td>dry</td>\n",
              "      <td>at least one biped</td>\n",
              "      <td>not at or within 20 metres of junction</td>\n",
              "      <td>no skidding or overturning</td>\n",
              "      <td>none leaving carriageway</td>\n",
              "      <td>none hit an object</td>\n",
              "      <td>other points of impact</td>\n",
              "      <td>male and female</td>\n",
              "      <td>NaN</td>\n",
              "      <td>serious</td>\n",
              "    </tr>\n",
              "    <tr>\n",
              "      <th>6</th>\n",
              "      <td>2019420894599</td>\n",
              "      <td>30</td>\n",
              "      <td>darkness</td>\n",
              "      <td>fine</td>\n",
              "      <td>wet or damp</td>\n",
              "      <td>only cars</td>\n",
              "      <td>not at or within 20 metres of junction</td>\n",
              "      <td>no skidding or overturning</td>\n",
              "      <td>none leaving carriageway</td>\n",
              "      <td>none hit an object</td>\n",
              "      <td>at least one vehicle with frontal impact</td>\n",
              "      <td>all males</td>\n",
              "      <td>40.0</td>\n",
              "      <td>fatal</td>\n",
              "    </tr>\n",
              "    <tr>\n",
              "      <th>7</th>\n",
              "      <td>2019010162791</td>\n",
              "      <td>50</td>\n",
              "      <td>daylight</td>\n",
              "      <td>fine</td>\n",
              "      <td>dry</td>\n",
              "      <td>only cars</td>\n",
              "      <td>at or within 20 metres of junction</td>\n",
              "      <td>no skidding or overturning</td>\n",
              "      <td>none leaving carriageway</td>\n",
              "      <td>none hit an object</td>\n",
              "      <td>at least one vehicle with frontal impact</td>\n",
              "      <td>all males</td>\n",
              "      <td>57.0</td>\n",
              "      <td>slight</td>\n",
              "    </tr>\n",
              "    <tr>\n",
              "      <th>8</th>\n",
              "      <td>2019360909153</td>\n",
              "      <td>60</td>\n",
              "      <td>daylight</td>\n",
              "      <td>fine</td>\n",
              "      <td>dry</td>\n",
              "      <td>at least one van</td>\n",
              "      <td>at or within 20 metres of junction</td>\n",
              "      <td>no skidding or overturning</td>\n",
              "      <td>none leaving carriageway</td>\n",
              "      <td>none hit an object</td>\n",
              "      <td>at least one vehicle with frontal impact</td>\n",
              "      <td>all males</td>\n",
              "      <td>57.0</td>\n",
              "      <td>fatal</td>\n",
              "    </tr>\n",
              "    <tr>\n",
              "      <th>9</th>\n",
              "      <td>2019500856761</td>\n",
              "      <td>60</td>\n",
              "      <td>daylight</td>\n",
              "      <td>fine</td>\n",
              "      <td>dry</td>\n",
              "      <td>only cars</td>\n",
              "      <td>not at or within 20 metres of junction</td>\n",
              "      <td>no skidding or overturning</td>\n",
              "      <td>at least one vehicle leaving carriageway</td>\n",
              "      <td>at least one vehicle hit an object</td>\n",
              "      <td>at least one vehicle with frontal impact</td>\n",
              "      <td>male and female</td>\n",
              "      <td>60.0</td>\n",
              "      <td>fatal</td>\n",
              "    </tr>\n",
              "  </tbody>\n",
              "</table>\n",
              "</div>\n",
              "      <button class=\"colab-df-convert\" onclick=\"convertToInteractive('df-332ec78d-cdba-4ba4-a549-544b48ab2bd5')\"\n",
              "              title=\"Convert this dataframe to an interactive table.\"\n",
              "              style=\"display:none;\">\n",
              "        \n",
              "  <svg xmlns=\"http://www.w3.org/2000/svg\" height=\"24px\"viewBox=\"0 0 24 24\"\n",
              "       width=\"24px\">\n",
              "    <path d=\"M0 0h24v24H0V0z\" fill=\"none\"/>\n",
              "    <path d=\"M18.56 5.44l.94 2.06.94-2.06 2.06-.94-2.06-.94-.94-2.06-.94 2.06-2.06.94zm-11 1L8.5 8.5l.94-2.06 2.06-.94-2.06-.94L8.5 2.5l-.94 2.06-2.06.94zm10 10l.94 2.06.94-2.06 2.06-.94-2.06-.94-.94-2.06-.94 2.06-2.06.94z\"/><path d=\"M17.41 7.96l-1.37-1.37c-.4-.4-.92-.59-1.43-.59-.52 0-1.04.2-1.43.59L10.3 9.45l-7.72 7.72c-.78.78-.78 2.05 0 2.83L4 21.41c.39.39.9.59 1.41.59.51 0 1.02-.2 1.41-.59l7.78-7.78 2.81-2.81c.8-.78.8-2.07 0-2.86zM5.41 20L4 18.59l7.72-7.72 1.47 1.35L5.41 20z\"/>\n",
              "  </svg>\n",
              "      </button>\n",
              "      \n",
              "  <style>\n",
              "    .colab-df-container {\n",
              "      display:flex;\n",
              "      flex-wrap:wrap;\n",
              "      gap: 12px;\n",
              "    }\n",
              "\n",
              "    .colab-df-convert {\n",
              "      background-color: #E8F0FE;\n",
              "      border: none;\n",
              "      border-radius: 50%;\n",
              "      cursor: pointer;\n",
              "      display: none;\n",
              "      fill: #1967D2;\n",
              "      height: 32px;\n",
              "      padding: 0 0 0 0;\n",
              "      width: 32px;\n",
              "    }\n",
              "\n",
              "    .colab-df-convert:hover {\n",
              "      background-color: #E2EBFA;\n",
              "      box-shadow: 0px 1px 2px rgba(60, 64, 67, 0.3), 0px 1px 3px 1px rgba(60, 64, 67, 0.15);\n",
              "      fill: #174EA6;\n",
              "    }\n",
              "\n",
              "    [theme=dark] .colab-df-convert {\n",
              "      background-color: #3B4455;\n",
              "      fill: #D2E3FC;\n",
              "    }\n",
              "\n",
              "    [theme=dark] .colab-df-convert:hover {\n",
              "      background-color: #434B5C;\n",
              "      box-shadow: 0px 1px 3px 1px rgba(0, 0, 0, 0.15);\n",
              "      filter: drop-shadow(0px 1px 2px rgba(0, 0, 0, 0.3));\n",
              "      fill: #FFFFFF;\n",
              "    }\n",
              "  </style>\n",
              "\n",
              "      <script>\n",
              "        const buttonEl =\n",
              "          document.querySelector('#df-332ec78d-cdba-4ba4-a549-544b48ab2bd5 button.colab-df-convert');\n",
              "        buttonEl.style.display =\n",
              "          google.colab.kernel.accessAllowed ? 'block' : 'none';\n",
              "\n",
              "        async function convertToInteractive(key) {\n",
              "          const element = document.querySelector('#df-332ec78d-cdba-4ba4-a549-544b48ab2bd5');\n",
              "          const dataTable =\n",
              "            await google.colab.kernel.invokeFunction('convertToInteractive',\n",
              "                                                     [key], {});\n",
              "          if (!dataTable) return;\n",
              "\n",
              "          const docLinkHtml = 'Like what you see? Visit the ' +\n",
              "            '<a target=\"_blank\" href=https://colab.research.google.com/notebooks/data_table.ipynb>data table notebook</a>'\n",
              "            + ' to learn more about interactive tables.';\n",
              "          element.innerHTML = '';\n",
              "          dataTable['output_type'] = 'display_data';\n",
              "          await google.colab.output.renderOutput(dataTable, element);\n",
              "          const docLink = document.createElement('div');\n",
              "          docLink.innerHTML = docLinkHtml;\n",
              "          element.appendChild(docLink);\n",
              "        }\n",
              "      </script>\n",
              "    </div>\n",
              "  </div>\n",
              "  "
            ]
          },
          "metadata": {},
          "execution_count": 11
        }
      ]
    },
    {
      "cell_type": "markdown",
      "source": [
        "Printing the data types of each column"
      ],
      "metadata": {
        "id": "-zuBWu5OuNed"
      }
    },
    {
      "cell_type": "code",
      "source": [
        "print(\"The data types of the columns:\\n\\n\", WorkingData.dtypes)"
      ],
      "metadata": {
        "colab": {
          "base_uri": "https://localhost:8080/",
          "height": 0
        },
        "id": "Z4otvH3kuF6_",
        "outputId": "9ca19e27-c73b-4aa6-e2b3-db2762fe526a"
      },
      "execution_count": 12,
      "outputs": [
        {
          "output_type": "stream",
          "name": "stdout",
          "text": [
            "The data types of the columns:\n",
            "\n",
            " accident_index                  object\n",
            "speed_limit                      int64\n",
            "light_conditions                object\n",
            "weather_conditions              object\n",
            "road_surface_conditions         object\n",
            "vehicle_type                    object\n",
            "junction_location               object\n",
            "skidding_and_overturning        object\n",
            "vehicle_leaving_carriageway     object\n",
            "hit_object_off_carriageway      object\n",
            "first_point_of_impact           object\n",
            "sex_of_driver                   object\n",
            "age_of_oldest_driver           float64\n",
            "accident_severity               object\n",
            "dtype: object\n"
          ]
        }
      ]
    },
    {
      "cell_type": "markdown",
      "source": [
        "Getting the count of all the NAN in the data set\n"
      ],
      "metadata": {
        "id": "20ZvIvxJvDYj"
      }
    },
    {
      "cell_type": "code",
      "source": [
        "WorkingData.isna().sum()"
      ],
      "metadata": {
        "colab": {
          "base_uri": "https://localhost:8080/",
          "height": 0
        },
        "id": "onrQtEWyuZzU",
        "outputId": "300d4e3e-3645-4f9e-9204-04ffb956152e"
      },
      "execution_count": 13,
      "outputs": [
        {
          "output_type": "execute_result",
          "data": {
            "text/plain": [
              "accident_index                    0\n",
              "speed_limit                       0\n",
              "light_conditions                  0\n",
              "weather_conditions                0\n",
              "road_surface_conditions           0\n",
              "vehicle_type                      0\n",
              "junction_location                 0\n",
              "skidding_and_overturning          0\n",
              "vehicle_leaving_carriageway       0\n",
              "hit_object_off_carriageway        0\n",
              "first_point_of_impact             0\n",
              "sex_of_driver                     0\n",
              "age_of_oldest_driver           6450\n",
              "accident_severity              1172\n",
              "dtype: int64"
            ]
          },
          "metadata": {},
          "execution_count": 13
        }
      ]
    },
    {
      "cell_type": "markdown",
      "source": [
        "Printing the distributions of each column"
      ],
      "metadata": {
        "id": "-hLMlbs-vXZh"
      }
    },
    {
      "cell_type": "code",
      "source": [
        "# let's list all categorical features\n",
        "categorical_columns= ['light_conditions', 'weather_conditions', 'road_surface_conditions', 'vehicle_type','junction_location','skidding_and_overturning','vehicle_leaving_carriageway','hit_object_off_carriageway','first_point_of_impact',\n",
        "       'accident_severity', 'sex_of_driver']\n",
        "# Question: why have we not included Loan_ID?\n",
        "\n",
        "# let's get the categories and their count for each feature\n",
        "for col in categorical_columns:\n",
        "  print(f\"Categories and number of occurrences for '{col}'\")\n",
        "  pretty_print_df(WorkingData[col].value_counts())\n",
        "  print()"
      ],
      "metadata": {
        "colab": {
          "base_uri": "https://localhost:8080/",
          "height": 2121
        },
        "id": "-wUzYZpAvWUD",
        "outputId": "8e497b01-1144-44f9-9d48-606c2a21c3d0"
      },
      "execution_count": 14,
      "outputs": [
        {
          "output_type": "stream",
          "name": "stdout",
          "text": [
            "Categories and number of occurrences for 'light_conditions'\n"
          ]
        },
        {
          "output_type": "display_data",
          "data": {
            "text/plain": [
              "<IPython.core.display.HTML object>"
            ],
            "text/html": [
              "<table border=\"1\" class=\"dataframe\">\n",
              "  <thead>\n",
              "    <tr style=\"text-align: right;\">\n",
              "      <th></th>\n",
              "      <th>light_conditions</th>\n",
              "    </tr>\n",
              "  </thead>\n",
              "  <tbody>\n",
              "    <tr>\n",
              "      <th>daylight</th>\n",
              "      <td>22210</td>\n",
              "    </tr>\n",
              "    <tr>\n",
              "      <th>darkness</th>\n",
              "      <td>9437</td>\n",
              "    </tr>\n",
              "  </tbody>\n",
              "</table>"
            ]
          },
          "metadata": {}
        },
        {
          "output_type": "stream",
          "name": "stdout",
          "text": [
            "\n",
            "Categories and number of occurrences for 'weather_conditions'\n"
          ]
        },
        {
          "output_type": "display_data",
          "data": {
            "text/plain": [
              "<IPython.core.display.HTML object>"
            ],
            "text/html": [
              "<table border=\"1\" class=\"dataframe\">\n",
              "  <thead>\n",
              "    <tr style=\"text-align: right;\">\n",
              "      <th></th>\n",
              "      <th>weather_conditions</th>\n",
              "    </tr>\n",
              "  </thead>\n",
              "  <tbody>\n",
              "    <tr>\n",
              "      <th>fine</th>\n",
              "      <td>25152</td>\n",
              "    </tr>\n",
              "    <tr>\n",
              "      <th>other</th>\n",
              "      <td>5407</td>\n",
              "    </tr>\n",
              "    <tr>\n",
              "      <th>data missing or out of range</th>\n",
              "      <td>970</td>\n",
              "    </tr>\n",
              "    <tr>\n",
              "      <th>fog or mist</th>\n",
              "      <td>118</td>\n",
              "    </tr>\n",
              "  </tbody>\n",
              "</table>"
            ]
          },
          "metadata": {}
        },
        {
          "output_type": "stream",
          "name": "stdout",
          "text": [
            "\n",
            "Categories and number of occurrences for 'road_surface_conditions'\n"
          ]
        },
        {
          "output_type": "display_data",
          "data": {
            "text/plain": [
              "<IPython.core.display.HTML object>"
            ],
            "text/html": [
              "<table border=\"1\" class=\"dataframe\">\n",
              "  <thead>\n",
              "    <tr style=\"text-align: right;\">\n",
              "      <th></th>\n",
              "      <th>road_surface_conditions</th>\n",
              "    </tr>\n",
              "  </thead>\n",
              "  <tbody>\n",
              "    <tr>\n",
              "      <th>dry</th>\n",
              "      <td>22092</td>\n",
              "    </tr>\n",
              "    <tr>\n",
              "      <th>wet or damp</th>\n",
              "      <td>8761</td>\n",
              "    </tr>\n",
              "    <tr>\n",
              "      <th>other</th>\n",
              "      <td>374</td>\n",
              "    </tr>\n",
              "    <tr>\n",
              "      <th>data missing or out of range</th>\n",
              "      <td>365</td>\n",
              "    </tr>\n",
              "    <tr>\n",
              "      <th>flood over 3cm. deep</th>\n",
              "      <td>55</td>\n",
              "    </tr>\n",
              "  </tbody>\n",
              "</table>"
            ]
          },
          "metadata": {}
        },
        {
          "output_type": "stream",
          "name": "stdout",
          "text": [
            "\n",
            "Categories and number of occurrences for 'vehicle_type'\n"
          ]
        },
        {
          "output_type": "display_data",
          "data": {
            "text/plain": [
              "<IPython.core.display.HTML object>"
            ],
            "text/html": [
              "<table border=\"1\" class=\"dataframe\">\n",
              "  <thead>\n",
              "    <tr style=\"text-align: right;\">\n",
              "      <th></th>\n",
              "      <th>vehicle_type</th>\n",
              "    </tr>\n",
              "  </thead>\n",
              "  <tbody>\n",
              "    <tr>\n",
              "      <th>only cars</th>\n",
              "      <td>17487</td>\n",
              "    </tr>\n",
              "    <tr>\n",
              "      <th>at least one biped</th>\n",
              "      <td>8662</td>\n",
              "    </tr>\n",
              "    <tr>\n",
              "      <th>at least one van</th>\n",
              "      <td>4040</td>\n",
              "    </tr>\n",
              "    <tr>\n",
              "      <th>biped and van</th>\n",
              "      <td>1000</td>\n",
              "    </tr>\n",
              "    <tr>\n",
              "      <th>other</th>\n",
              "      <td>395</td>\n",
              "    </tr>\n",
              "    <tr>\n",
              "      <th>data missing or out of range</th>\n",
              "      <td>63</td>\n",
              "    </tr>\n",
              "  </tbody>\n",
              "</table>"
            ]
          },
          "metadata": {}
        },
        {
          "output_type": "stream",
          "name": "stdout",
          "text": [
            "\n",
            "Categories and number of occurrences for 'junction_location'\n"
          ]
        },
        {
          "output_type": "display_data",
          "data": {
            "text/plain": [
              "<IPython.core.display.HTML object>"
            ],
            "text/html": [
              "<table border=\"1\" class=\"dataframe\">\n",
              "  <thead>\n",
              "    <tr style=\"text-align: right;\">\n",
              "      <th></th>\n",
              "      <th>junction_location</th>\n",
              "    </tr>\n",
              "  </thead>\n",
              "  <tbody>\n",
              "    <tr>\n",
              "      <th>at or within 20 metres of junction</th>\n",
              "      <td>17204</td>\n",
              "    </tr>\n",
              "    <tr>\n",
              "      <th>not at or within 20 metres of junction</th>\n",
              "      <td>12973</td>\n",
              "    </tr>\n",
              "    <tr>\n",
              "      <th>data missing or out of range</th>\n",
              "      <td>1470</td>\n",
              "    </tr>\n",
              "  </tbody>\n",
              "</table>"
            ]
          },
          "metadata": {}
        },
        {
          "output_type": "stream",
          "name": "stdout",
          "text": [
            "\n",
            "Categories and number of occurrences for 'skidding_and_overturning'\n"
          ]
        },
        {
          "output_type": "display_data",
          "data": {
            "text/plain": [
              "<IPython.core.display.HTML object>"
            ],
            "text/html": [
              "<table border=\"1\" class=\"dataframe\">\n",
              "  <thead>\n",
              "    <tr style=\"text-align: right;\">\n",
              "      <th></th>\n",
              "      <th>skidding_and_overturning</th>\n",
              "    </tr>\n",
              "  </thead>\n",
              "  <tbody>\n",
              "    <tr>\n",
              "      <th>no skidding or overturning</th>\n",
              "      <td>24387</td>\n",
              "    </tr>\n",
              "    <tr>\n",
              "      <th>at least one vehicle skidded or overturned</th>\n",
              "      <td>5226</td>\n",
              "    </tr>\n",
              "    <tr>\n",
              "      <th>data missing or out of range</th>\n",
              "      <td>2034</td>\n",
              "    </tr>\n",
              "  </tbody>\n",
              "</table>"
            ]
          },
          "metadata": {}
        },
        {
          "output_type": "stream",
          "name": "stdout",
          "text": [
            "\n",
            "Categories and number of occurrences for 'vehicle_leaving_carriageway'\n"
          ]
        },
        {
          "output_type": "display_data",
          "data": {
            "text/plain": [
              "<IPython.core.display.HTML object>"
            ],
            "text/html": [
              "<table border=\"1\" class=\"dataframe\">\n",
              "  <thead>\n",
              "    <tr style=\"text-align: right;\">\n",
              "      <th></th>\n",
              "      <th>vehicle_leaving_carriageway</th>\n",
              "    </tr>\n",
              "  </thead>\n",
              "  <tbody>\n",
              "    <tr>\n",
              "      <th>none leaving carriageway</th>\n",
              "      <td>24019</td>\n",
              "    </tr>\n",
              "    <tr>\n",
              "      <th>at least one vehicle leaving carriageway</th>\n",
              "      <td>5661</td>\n",
              "    </tr>\n",
              "    <tr>\n",
              "      <th>data missing or out of range</th>\n",
              "      <td>1967</td>\n",
              "    </tr>\n",
              "  </tbody>\n",
              "</table>"
            ]
          },
          "metadata": {}
        },
        {
          "output_type": "stream",
          "name": "stdout",
          "text": [
            "\n",
            "Categories and number of occurrences for 'hit_object_off_carriageway'\n"
          ]
        },
        {
          "output_type": "display_data",
          "data": {
            "text/plain": [
              "<IPython.core.display.HTML object>"
            ],
            "text/html": [
              "<table border=\"1\" class=\"dataframe\">\n",
              "  <thead>\n",
              "    <tr style=\"text-align: right;\">\n",
              "      <th></th>\n",
              "      <th>hit_object_off_carriageway</th>\n",
              "    </tr>\n",
              "  </thead>\n",
              "  <tbody>\n",
              "    <tr>\n",
              "      <th>none hit an object</th>\n",
              "      <td>26129</td>\n",
              "    </tr>\n",
              "    <tr>\n",
              "      <th>at least one vehicle hit an object</th>\n",
              "      <td>3655</td>\n",
              "    </tr>\n",
              "    <tr>\n",
              "      <th>data missing or out of range</th>\n",
              "      <td>1863</td>\n",
              "    </tr>\n",
              "  </tbody>\n",
              "</table>"
            ]
          },
          "metadata": {}
        },
        {
          "output_type": "stream",
          "name": "stdout",
          "text": [
            "\n",
            "Categories and number of occurrences for 'first_point_of_impact'\n"
          ]
        },
        {
          "output_type": "display_data",
          "data": {
            "text/plain": [
              "<IPython.core.display.HTML object>"
            ],
            "text/html": [
              "<table border=\"1\" class=\"dataframe\">\n",
              "  <thead>\n",
              "    <tr style=\"text-align: right;\">\n",
              "      <th></th>\n",
              "      <th>first_point_of_impact</th>\n",
              "    </tr>\n",
              "  </thead>\n",
              "  <tbody>\n",
              "    <tr>\n",
              "      <th>at least one vehicle with frontal impact</th>\n",
              "      <td>23002</td>\n",
              "    </tr>\n",
              "    <tr>\n",
              "      <th>other points of impact</th>\n",
              "      <td>6008</td>\n",
              "    </tr>\n",
              "    <tr>\n",
              "      <th>no impact</th>\n",
              "      <td>1333</td>\n",
              "    </tr>\n",
              "    <tr>\n",
              "      <th>data missing or out of range</th>\n",
              "      <td>1304</td>\n",
              "    </tr>\n",
              "  </tbody>\n",
              "</table>"
            ]
          },
          "metadata": {}
        },
        {
          "output_type": "stream",
          "name": "stdout",
          "text": [
            "\n",
            "Categories and number of occurrences for 'accident_severity'\n"
          ]
        },
        {
          "output_type": "display_data",
          "data": {
            "text/plain": [
              "<IPython.core.display.HTML object>"
            ],
            "text/html": [
              "<table border=\"1\" class=\"dataframe\">\n",
              "  <thead>\n",
              "    <tr style=\"text-align: right;\">\n",
              "      <th></th>\n",
              "      <th>accident_severity</th>\n",
              "    </tr>\n",
              "  </thead>\n",
              "  <tbody>\n",
              "    <tr>\n",
              "      <th>slight</th>\n",
              "      <td>12672</td>\n",
              "    </tr>\n",
              "    <tr>\n",
              "      <th>serious</th>\n",
              "      <td>11592</td>\n",
              "    </tr>\n",
              "    <tr>\n",
              "      <th>fatal</th>\n",
              "      <td>6159</td>\n",
              "    </tr>\n",
              "    <tr>\n",
              "      <th>Serious</th>\n",
              "      <td>25</td>\n",
              "    </tr>\n",
              "    <tr>\n",
              "      <th>Slight</th>\n",
              "      <td>19</td>\n",
              "    </tr>\n",
              "    <tr>\n",
              "      <th>Fatal</th>\n",
              "      <td>8</td>\n",
              "    </tr>\n",
              "  </tbody>\n",
              "</table>"
            ]
          },
          "metadata": {}
        },
        {
          "output_type": "stream",
          "name": "stdout",
          "text": [
            "\n",
            "Categories and number of occurrences for 'sex_of_driver'\n"
          ]
        },
        {
          "output_type": "display_data",
          "data": {
            "text/plain": [
              "<IPython.core.display.HTML object>"
            ],
            "text/html": [
              "<table border=\"1\" class=\"dataframe\">\n",
              "  <thead>\n",
              "    <tr style=\"text-align: right;\">\n",
              "      <th></th>\n",
              "      <th>sex_of_driver</th>\n",
              "    </tr>\n",
              "  </thead>\n",
              "  <tbody>\n",
              "    <tr>\n",
              "      <th>all males</th>\n",
              "      <td>15494</td>\n",
              "    </tr>\n",
              "    <tr>\n",
              "      <th>male and female</th>\n",
              "      <td>7015</td>\n",
              "    </tr>\n",
              "    <tr>\n",
              "      <th>data missing or out of range</th>\n",
              "      <td>5122</td>\n",
              "    </tr>\n",
              "    <tr>\n",
              "      <th>all females</th>\n",
              "      <td>4016</td>\n",
              "    </tr>\n",
              "  </tbody>\n",
              "</table>"
            ]
          },
          "metadata": {}
        },
        {
          "output_type": "stream",
          "name": "stdout",
          "text": [
            "\n"
          ]
        }
      ]
    },
    {
      "cell_type": "markdown",
      "source": [
        "# Data Preprocessing"
      ],
      "metadata": {
        "id": "koU0-JzhJI7R"
      }
    },
    {
      "cell_type": "markdown",
      "source": [
        "accident_serverity have value that mean the same word but some have the first letter as upper case."
      ],
      "metadata": {
        "id": "MX7vjkO0JZcF"
      }
    },
    {
      "cell_type": "code",
      "source": [
        "WorkingData.loc[WorkingData.accident_severity=='Slight','accident_severity'] = 'slight'\n",
        "WorkingData.loc[WorkingData.accident_severity=='Serious','accident_severity'] = 'serious'\n",
        "WorkingData.loc[WorkingData.accident_severity=='Fatal','accident_severity'] = 'fatal'"
      ],
      "metadata": {
        "id": "7Rbax5HPJOTY"
      },
      "execution_count": 15,
      "outputs": []
    },
    {
      "cell_type": "markdown",
      "source": [
        "Replacing 'data missing or out of range' with 'NaN' "
      ],
      "metadata": {
        "id": "RsjdXPyjJorC"
      }
    },
    {
      "cell_type": "code",
      "source": [
        "# replace out of scope value for the columns values with NaN\n",
        "accepted_weather_conditions = ['fine','other','fog or mist']\n",
        "accepted_road_surface_conditions = ['dry','wet or damp','other','flood over 3cm. deep']\n",
        "accepted_vehicle_type = ['only cars','at least one biped','at least one van','biped and van','other']\n",
        "accepted_junction_location = ['at or within 20 metres of junction','not at or within 20 metres of junction']\n",
        "accepted_skidding_and_overturning = ['no skidding or overturning','at least one vehicle skidded or overturned']\n",
        "accepted_vehicle_leaving_carriageway = ['none leaving carriageway','at least one vehicle leaving carriageway']\n",
        "accepted_hit_object_off_carriageway = ['none hit an object','at least one vehicle hit an object']\n",
        "accepted_first_point_of_impact = ['at least one vehicle with frontal impact','other points of impact','no impact']\n",
        "accepted_sex_of_driver = ['all males','male and female','all females']\n",
        "\n",
        "\n",
        "# remember the lambda notation: it is an anonymous function that lets us specificy\n",
        "# a given (and easy) transformation for its input (in this case, x)\n",
        "WorkingData.loc[WorkingData.weather_conditions.map(lambda x: x not in accepted_weather_conditions),'weather_conditions'] = np.nan\n",
        "WorkingData.loc[WorkingData.road_surface_conditions.map(lambda x: x not in accepted_road_surface_conditions),'road_surface_conditions'] = np.nan\n",
        "WorkingData.loc[WorkingData.vehicle_type.map(lambda x: x not in accepted_vehicle_type),'vehicle_type'] = np.nan\n",
        "WorkingData.loc[WorkingData.junction_location.map(lambda x: x not in accepted_junction_location),'junction_location'] = np.nan\n",
        "WorkingData.loc[WorkingData.skidding_and_overturning.map(lambda x: x not in accepted_skidding_and_overturning),'skidding_and_overturning'] = np.nan\n",
        "WorkingData.loc[WorkingData.vehicle_leaving_carriageway.map(lambda x: x not in accepted_vehicle_leaving_carriageway),'vehicle_leaving_carriageway'] = np.nan\n",
        "WorkingData.loc[WorkingData.hit_object_off_carriageway.map(lambda x: x not in accepted_hit_object_off_carriageway),'hit_object_off_carriageway'] = np.nan\n",
        "WorkingData.loc[WorkingData.first_point_of_impact.map(lambda x: x not in accepted_first_point_of_impact),'first_point_of_impact'] = np.nan\n",
        "WorkingData.loc[WorkingData.sex_of_driver.map(lambda x: x not in accepted_sex_of_driver),'sex_of_driver'] = np.nan\n",
        "#replacing the -1 with an NaN\n",
        "WorkingData.loc[WorkingData.speed_limit==-1,'speed_limit'] = np.nan"
      ],
      "metadata": {
        "id": "V0cWJhaBJmv6"
      },
      "execution_count": 16,
      "outputs": []
    },
    {
      "cell_type": "markdown",
      "source": [
        "Dealing with NaNs-Since all our NaN are categorical value we replace them with the most common values."
      ],
      "metadata": {
        "id": "mAcNls2qJ7DV"
      }
    },
    {
      "cell_type": "code",
      "source": [
        "from sklearn.impute import SimpleImputer \n",
        "\n",
        "# data_no_nans =  data.copy()\n",
        "\n",
        "categorical_columns= ['light_conditions', 'weather_conditions', 'road_surface_conditions', 'vehicle_type','junction_location','skidding_and_overturning','vehicle_leaving_carriageway','hit_object_off_carriageway','first_point_of_impact'\n",
        "       , 'sex_of_driver']\n",
        "### insert code here; work on the: train_dataset_no_nans\n",
        "# 1. Imputer\n",
        "imptr_cat = SimpleImputer(missing_values = np.nan, strategy = 'most_frequent')  \n",
        "\n",
        "# 2. Fit the imputer object to the feature matrix (only for categorical features)\n",
        "imptr_cat = imptr_cat.fit(WorkingData[categorical_columns])\n",
        "\n",
        "# 3. Call Transform to replace missing data in train_dataset (on specific columns) by the mean of the column to which that missing data belongs to\n",
        "WorkingData[categorical_columns] = imptr_cat.transform(WorkingData[categorical_columns])  \n"
      ],
      "metadata": {
        "id": "yS4JRv7wJ7u7"
      },
      "execution_count": 17,
      "outputs": []
    },
    {
      "cell_type": "markdown",
      "source": [
        "dealing with missing values of the 'age_of_oldest_driver' - replace by the mean"
      ],
      "metadata": {
        "id": "6gVynVPIKANr"
      }
    },
    {
      "cell_type": "code",
      "source": [
        "# 1. Imputer\n",
        "imptr_num = SimpleImputer(missing_values = np.nan, strategy = 'median')  \n",
        "\n",
        "\n",
        "# 2. Fit the imputer object to the feature matrix (only for numeric features)\n",
        "numerical_columns = ['speed_limit', 'age_of_oldest_driver']\n",
        "imptr_num = imptr_num.fit(WorkingData[numerical_columns]) # fit the data to estimate the parameters (here, the average value)\n",
        "\n",
        "# 3. Call Transform to replace missing data in train_dataset (on specific columns) by the mean of the column to which that missing data belongs to\n",
        "WorkingData[numerical_columns] = \\\n",
        "  imptr_num.transform(WorkingData[numerical_columns])"
      ],
      "metadata": {
        "id": "o9-feJLQKA11"
      },
      "execution_count": 18,
      "outputs": []
    },
    {
      "cell_type": "markdown",
      "source": [
        "deleting all the row that have 'accident_severity' as 'NaN'"
      ],
      "metadata": {
        "id": "03fwQzbOKMo9"
      }
    },
    {
      "cell_type": "code",
      "source": [
        "\n",
        "# remove all rows with missing data\n",
        "# dropna removes all rows that contain at least one missing value\n",
        "print(f'Original dataset length: {len(WorkingData)}')\n",
        "WorkingData = WorkingData.dropna()\n",
        "print(f'Dataset length after removing missing rows: {len(WorkingData)}')\n",
        "print()\n",
        "# print(reduced_train_dataset[['Loan_ID']].head(5)) #let's print only the Loan_ID column\n",
        "WorkingData.head(5)\n",
        "# Look at the Loan_ID column: note how the rows order has changed because we dropped the first one!"
      ],
      "metadata": {
        "colab": {
          "base_uri": "https://localhost:8080/",
          "height": 411
        },
        "id": "JpvWFDnaKd96",
        "outputId": "43ece1af-2c1c-4259-b43b-84cb9d7a9332"
      },
      "execution_count": 19,
      "outputs": [
        {
          "output_type": "stream",
          "name": "stdout",
          "text": [
            "Original dataset length: 31647\n",
            "Dataset length after removing missing rows: 30475\n",
            "\n"
          ]
        },
        {
          "output_type": "execute_result",
          "data": {
            "text/plain": [
              "  accident_index  speed_limit light_conditions weather_conditions  \\\n",
              "0  2019010225080         30.0         darkness              other   \n",
              "1  2019200908684         30.0         darkness               fine   \n",
              "2  2019040860897         40.0         daylight               fine   \n",
              "3  2019460847205         40.0         daylight               fine   \n",
              "4  2019051911581         30.0         daylight               fine   \n",
              "\n",
              "  road_surface_conditions      vehicle_type  \\\n",
              "0             wet or damp  at least one van   \n",
              "1                     dry         only cars   \n",
              "2                     dry         only cars   \n",
              "3                     dry         only cars   \n",
              "4                     dry         only cars   \n",
              "\n",
              "                        junction_location    skidding_and_overturning  \\\n",
              "0      at or within 20 metres of junction  no skidding or overturning   \n",
              "1      at or within 20 metres of junction  no skidding or overturning   \n",
              "2      at or within 20 metres of junction  no skidding or overturning   \n",
              "3  not at or within 20 metres of junction  no skidding or overturning   \n",
              "4  not at or within 20 metres of junction  no skidding or overturning   \n",
              "\n",
              "                vehicle_leaving_carriageway  \\\n",
              "0                  none leaving carriageway   \n",
              "1  at least one vehicle leaving carriageway   \n",
              "2                  none leaving carriageway   \n",
              "3                  none leaving carriageway   \n",
              "4                  none leaving carriageway   \n",
              "\n",
              "           hit_object_off_carriageway  \\\n",
              "0                  none hit an object   \n",
              "1  at least one vehicle hit an object   \n",
              "2                  none hit an object   \n",
              "3                  none hit an object   \n",
              "4                  none hit an object   \n",
              "\n",
              "                      first_point_of_impact    sex_of_driver  \\\n",
              "0                    other points of impact        all males   \n",
              "1  at least one vehicle with frontal impact        all males   \n",
              "2  at least one vehicle with frontal impact        all males   \n",
              "3  at least one vehicle with frontal impact  male and female   \n",
              "4  at least one vehicle with frontal impact      all females   \n",
              "\n",
              "   age_of_oldest_driver accident_severity  \n",
              "0                  63.0           serious  \n",
              "1                  82.0             fatal  \n",
              "2                  47.0           serious  \n",
              "3                  47.0           serious  \n",
              "4                  39.0            slight  "
            ],
            "text/html": [
              "\n",
              "  <div id=\"df-dee618aa-fded-4a23-9d3d-473b91d01955\">\n",
              "    <div class=\"colab-df-container\">\n",
              "      <div>\n",
              "<style scoped>\n",
              "    .dataframe tbody tr th:only-of-type {\n",
              "        vertical-align: middle;\n",
              "    }\n",
              "\n",
              "    .dataframe tbody tr th {\n",
              "        vertical-align: top;\n",
              "    }\n",
              "\n",
              "    .dataframe thead th {\n",
              "        text-align: right;\n",
              "    }\n",
              "</style>\n",
              "<table border=\"1\" class=\"dataframe\">\n",
              "  <thead>\n",
              "    <tr style=\"text-align: right;\">\n",
              "      <th></th>\n",
              "      <th>accident_index</th>\n",
              "      <th>speed_limit</th>\n",
              "      <th>light_conditions</th>\n",
              "      <th>weather_conditions</th>\n",
              "      <th>road_surface_conditions</th>\n",
              "      <th>vehicle_type</th>\n",
              "      <th>junction_location</th>\n",
              "      <th>skidding_and_overturning</th>\n",
              "      <th>vehicle_leaving_carriageway</th>\n",
              "      <th>hit_object_off_carriageway</th>\n",
              "      <th>first_point_of_impact</th>\n",
              "      <th>sex_of_driver</th>\n",
              "      <th>age_of_oldest_driver</th>\n",
              "      <th>accident_severity</th>\n",
              "    </tr>\n",
              "  </thead>\n",
              "  <tbody>\n",
              "    <tr>\n",
              "      <th>0</th>\n",
              "      <td>2019010225080</td>\n",
              "      <td>30.0</td>\n",
              "      <td>darkness</td>\n",
              "      <td>other</td>\n",
              "      <td>wet or damp</td>\n",
              "      <td>at least one van</td>\n",
              "      <td>at or within 20 metres of junction</td>\n",
              "      <td>no skidding or overturning</td>\n",
              "      <td>none leaving carriageway</td>\n",
              "      <td>none hit an object</td>\n",
              "      <td>other points of impact</td>\n",
              "      <td>all males</td>\n",
              "      <td>63.0</td>\n",
              "      <td>serious</td>\n",
              "    </tr>\n",
              "    <tr>\n",
              "      <th>1</th>\n",
              "      <td>2019200908684</td>\n",
              "      <td>30.0</td>\n",
              "      <td>darkness</td>\n",
              "      <td>fine</td>\n",
              "      <td>dry</td>\n",
              "      <td>only cars</td>\n",
              "      <td>at or within 20 metres of junction</td>\n",
              "      <td>no skidding or overturning</td>\n",
              "      <td>at least one vehicle leaving carriageway</td>\n",
              "      <td>at least one vehicle hit an object</td>\n",
              "      <td>at least one vehicle with frontal impact</td>\n",
              "      <td>all males</td>\n",
              "      <td>82.0</td>\n",
              "      <td>fatal</td>\n",
              "    </tr>\n",
              "    <tr>\n",
              "      <th>2</th>\n",
              "      <td>2019040860897</td>\n",
              "      <td>40.0</td>\n",
              "      <td>daylight</td>\n",
              "      <td>fine</td>\n",
              "      <td>dry</td>\n",
              "      <td>only cars</td>\n",
              "      <td>at or within 20 metres of junction</td>\n",
              "      <td>no skidding or overturning</td>\n",
              "      <td>none leaving carriageway</td>\n",
              "      <td>none hit an object</td>\n",
              "      <td>at least one vehicle with frontal impact</td>\n",
              "      <td>all males</td>\n",
              "      <td>47.0</td>\n",
              "      <td>serious</td>\n",
              "    </tr>\n",
              "    <tr>\n",
              "      <th>3</th>\n",
              "      <td>2019460847205</td>\n",
              "      <td>40.0</td>\n",
              "      <td>daylight</td>\n",
              "      <td>fine</td>\n",
              "      <td>dry</td>\n",
              "      <td>only cars</td>\n",
              "      <td>not at or within 20 metres of junction</td>\n",
              "      <td>no skidding or overturning</td>\n",
              "      <td>none leaving carriageway</td>\n",
              "      <td>none hit an object</td>\n",
              "      <td>at least one vehicle with frontal impact</td>\n",
              "      <td>male and female</td>\n",
              "      <td>47.0</td>\n",
              "      <td>serious</td>\n",
              "    </tr>\n",
              "    <tr>\n",
              "      <th>4</th>\n",
              "      <td>2019051911581</td>\n",
              "      <td>30.0</td>\n",
              "      <td>daylight</td>\n",
              "      <td>fine</td>\n",
              "      <td>dry</td>\n",
              "      <td>only cars</td>\n",
              "      <td>not at or within 20 metres of junction</td>\n",
              "      <td>no skidding or overturning</td>\n",
              "      <td>none leaving carriageway</td>\n",
              "      <td>none hit an object</td>\n",
              "      <td>at least one vehicle with frontal impact</td>\n",
              "      <td>all females</td>\n",
              "      <td>39.0</td>\n",
              "      <td>slight</td>\n",
              "    </tr>\n",
              "  </tbody>\n",
              "</table>\n",
              "</div>\n",
              "      <button class=\"colab-df-convert\" onclick=\"convertToInteractive('df-dee618aa-fded-4a23-9d3d-473b91d01955')\"\n",
              "              title=\"Convert this dataframe to an interactive table.\"\n",
              "              style=\"display:none;\">\n",
              "        \n",
              "  <svg xmlns=\"http://www.w3.org/2000/svg\" height=\"24px\"viewBox=\"0 0 24 24\"\n",
              "       width=\"24px\">\n",
              "    <path d=\"M0 0h24v24H0V0z\" fill=\"none\"/>\n",
              "    <path d=\"M18.56 5.44l.94 2.06.94-2.06 2.06-.94-2.06-.94-.94-2.06-.94 2.06-2.06.94zm-11 1L8.5 8.5l.94-2.06 2.06-.94-2.06-.94L8.5 2.5l-.94 2.06-2.06.94zm10 10l.94 2.06.94-2.06 2.06-.94-2.06-.94-.94-2.06-.94 2.06-2.06.94z\"/><path d=\"M17.41 7.96l-1.37-1.37c-.4-.4-.92-.59-1.43-.59-.52 0-1.04.2-1.43.59L10.3 9.45l-7.72 7.72c-.78.78-.78 2.05 0 2.83L4 21.41c.39.39.9.59 1.41.59.51 0 1.02-.2 1.41-.59l7.78-7.78 2.81-2.81c.8-.78.8-2.07 0-2.86zM5.41 20L4 18.59l7.72-7.72 1.47 1.35L5.41 20z\"/>\n",
              "  </svg>\n",
              "      </button>\n",
              "      \n",
              "  <style>\n",
              "    .colab-df-container {\n",
              "      display:flex;\n",
              "      flex-wrap:wrap;\n",
              "      gap: 12px;\n",
              "    }\n",
              "\n",
              "    .colab-df-convert {\n",
              "      background-color: #E8F0FE;\n",
              "      border: none;\n",
              "      border-radius: 50%;\n",
              "      cursor: pointer;\n",
              "      display: none;\n",
              "      fill: #1967D2;\n",
              "      height: 32px;\n",
              "      padding: 0 0 0 0;\n",
              "      width: 32px;\n",
              "    }\n",
              "\n",
              "    .colab-df-convert:hover {\n",
              "      background-color: #E2EBFA;\n",
              "      box-shadow: 0px 1px 2px rgba(60, 64, 67, 0.3), 0px 1px 3px 1px rgba(60, 64, 67, 0.15);\n",
              "      fill: #174EA6;\n",
              "    }\n",
              "\n",
              "    [theme=dark] .colab-df-convert {\n",
              "      background-color: #3B4455;\n",
              "      fill: #D2E3FC;\n",
              "    }\n",
              "\n",
              "    [theme=dark] .colab-df-convert:hover {\n",
              "      background-color: #434B5C;\n",
              "      box-shadow: 0px 1px 3px 1px rgba(0, 0, 0, 0.15);\n",
              "      filter: drop-shadow(0px 1px 2px rgba(0, 0, 0, 0.3));\n",
              "      fill: #FFFFFF;\n",
              "    }\n",
              "  </style>\n",
              "\n",
              "      <script>\n",
              "        const buttonEl =\n",
              "          document.querySelector('#df-dee618aa-fded-4a23-9d3d-473b91d01955 button.colab-df-convert');\n",
              "        buttonEl.style.display =\n",
              "          google.colab.kernel.accessAllowed ? 'block' : 'none';\n",
              "\n",
              "        async function convertToInteractive(key) {\n",
              "          const element = document.querySelector('#df-dee618aa-fded-4a23-9d3d-473b91d01955');\n",
              "          const dataTable =\n",
              "            await google.colab.kernel.invokeFunction('convertToInteractive',\n",
              "                                                     [key], {});\n",
              "          if (!dataTable) return;\n",
              "\n",
              "          const docLinkHtml = 'Like what you see? Visit the ' +\n",
              "            '<a target=\"_blank\" href=https://colab.research.google.com/notebooks/data_table.ipynb>data table notebook</a>'\n",
              "            + ' to learn more about interactive tables.';\n",
              "          element.innerHTML = '';\n",
              "          dataTable['output_type'] = 'display_data';\n",
              "          await google.colab.output.renderOutput(dataTable, element);\n",
              "          const docLink = document.createElement('div');\n",
              "          docLink.innerHTML = docLinkHtml;\n",
              "          element.appendChild(docLink);\n",
              "        }\n",
              "      </script>\n",
              "    </div>\n",
              "  </div>\n",
              "  "
            ]
          },
          "metadata": {},
          "execution_count": 19
        }
      ]
    },
    {
      "cell_type": "markdown",
      "source": [
        "dropping the duplicate value in the data set\n"
      ],
      "metadata": {
        "id": "JKBagpvIKlPn"
      }
    },
    {
      "cell_type": "code",
      "source": [
        "WorkingData = WorkingData.drop_duplicates()"
      ],
      "metadata": {
        "id": "dlr-BR66Kj2Y"
      },
      "execution_count": 20,
      "outputs": []
    },
    {
      "cell_type": "code",
      "source": [
        "WorkingData.shape"
      ],
      "metadata": {
        "colab": {
          "base_uri": "https://localhost:8080/",
          "height": 0
        },
        "id": "5Ycn9WiL6uLA",
        "outputId": "5b4aa894-44eb-409a-fb87-0d2e43129e64"
      },
      "execution_count": 21,
      "outputs": [
        {
          "output_type": "execute_result",
          "data": {
            "text/plain": [
              "(29303, 14)"
            ]
          },
          "metadata": {},
          "execution_count": 21
        }
      ]
    },
    {
      "cell_type": "markdown",
      "source": [
        "Splitting our data in into X and Y data frames for modeling \n"
      ],
      "metadata": {
        "id": "pcsO-0JvQC3T"
      }
    },
    {
      "cell_type": "code",
      "source": [
        "all_data =  pd.DataFrame(WorkingData,columns=[ 'speed_limit', 'light_conditions',\n",
        "       'weather_conditions', 'road_surface_conditions', 'vehicle_type',\n",
        "       'junction_location', 'skidding_and_overturning',\n",
        "       'vehicle_leaving_carriageway', 'hit_object_off_carriageway',\n",
        "       'first_point_of_impact', 'sex_of_driver', 'age_of_oldest_driver','accident_severity'])"
      ],
      "metadata": {
        "id": "PlkUDhI0P_QK"
      },
      "execution_count": 22,
      "outputs": []
    },
    {
      "cell_type": "code",
      "source": [
        "X = pd.DataFrame(WorkingData,columns=[ 'speed_limit', 'light_conditions',\n",
        "       'weather_conditions', 'road_surface_conditions', 'vehicle_type',\n",
        "       'junction_location', 'skidding_and_overturning',\n",
        "       'vehicle_leaving_carriageway', 'hit_object_off_carriageway'])\n",
        "Y = pd.DataFrame(WorkingData,columns=['accident_severity'])\n"
      ],
      "metadata": {
        "id": "jRCOCyYC5J0-"
      },
      "execution_count": 23,
      "outputs": []
    },
    {
      "cell_type": "markdown",
      "source": [
        "We now plot a pie chart to check the imbalance of our target variable."
      ],
      "metadata": {
        "id": "LWl8KHMoNTNv"
      }
    },
    {
      "cell_type": "code",
      "source": [
        "\n",
        "# let's list all categorical features\n",
        "categorical_columns= ['accident_severity']\n",
        "\n",
        "for col in categorical_columns:\n",
        "    print(f\"Categories and number of occurrences for '{col}'\")\n",
        "    pretty_print_df(WorkingData[col].value_counts())\n",
        "    print()\n",
        "\n",
        "plt.figure(figsize=(5, 5))\n",
        "values = WorkingData[col].value_counts()\n",
        "labels = values.index.tolist()\n",
        "plt.pie(values, labels=labels, autopct='%1.1f%%')\n",
        "plt.title('Accident Severity Categories', fontsize=20)\n",
        "plt.legend(loc=2)\n",
        "plt.show()\n"
      ],
      "metadata": {
        "colab": {
          "base_uri": "https://localhost:8080/",
          "height": 615
        },
        "id": "BFH4FXvJKqkP",
        "outputId": "51c4cc16-883d-4e3b-dc9c-7c491838995f"
      },
      "execution_count": 25,
      "outputs": [
        {
          "output_type": "stream",
          "name": "stdout",
          "text": [
            "Categories and number of occurrences for 'accident_severity'\n"
          ]
        },
        {
          "output_type": "display_data",
          "data": {
            "text/plain": [
              "<IPython.core.display.HTML object>"
            ],
            "text/html": [
              "<table border=\"1\" class=\"dataframe\">\n",
              "  <thead>\n",
              "    <tr style=\"text-align: right;\">\n",
              "      <th></th>\n",
              "      <th>accident_severity</th>\n",
              "    </tr>\n",
              "  </thead>\n",
              "  <tbody>\n",
              "    <tr>\n",
              "      <th>slight</th>\n",
              "      <td>12190</td>\n",
              "    </tr>\n",
              "    <tr>\n",
              "      <th>serious</th>\n",
              "      <td>11180</td>\n",
              "    </tr>\n",
              "    <tr>\n",
              "      <th>fatal</th>\n",
              "      <td>5933</td>\n",
              "    </tr>\n",
              "  </tbody>\n",
              "</table>"
            ]
          },
          "metadata": {}
        },
        {
          "output_type": "stream",
          "name": "stdout",
          "text": [
            "\n"
          ]
        },
        {
          "output_type": "display_data",
          "data": {
            "text/plain": [
              "<Figure size 500x500 with 1 Axes>"
            ],
            "image/png": "[encoded data removed]"
          },
          "metadata": {}
        }
      ]
    },
    {
      "cell_type": "markdown",
      "source": [
        "Implementing FAMD to find the insignificant data fields."
      ],
      "metadata": {
        "id": "XWf8lIzUY09T"
      }
    },
    {
      "cell_type": "code",
      "source": [
        "import prince\n",
        "import pandas as pd\n",
        "import matplotlib.pyplot as plt\n",
        "\n",
        "\n",
        "# Perform FAMD\n",
        "famd = prince.FAMD(\n",
        "    n_components=2,\n",
        "    n_iter=3,\n",
        "    copy=True,\n",
        "    check_input=True,\n",
        "    random_state=42,\n",
        "    engine=\"sklearn\"\n",
        ")\n",
        "famd = famd.fit(all_data)\n",
        "\n",
        "# Extract the contributions of each category to the first two components\n",
        "contributions = famd.column_contributions_\n",
        "contributions = contributions.abs().iloc[:, :2]\n",
        "\n",
        "print(abs(contributions.iloc[:, :2]).to_string(index=True))\n",
        "\n",
        "#set colours\n",
        "colors = ['r', 'b']\n",
        "# Plot a stacked bar chart\n",
        "ax = contributions.plot(kind='bar', stacked=True, figsize=(8, 6),color=colors)\n",
        "\n",
        "# Set the x-axis label\n",
        "ax.set_xlabel('Category')\n",
        "\n",
        "# Set the y-axis label\n",
        "ax.set_ylabel('Contribution to Components')\n",
        "\n",
        "# Set the title\n",
        "ax.set_title('Contributions of Categories to FAMD Components')\n",
        "\n",
        "# Set the legend\n",
        "ax.legend(['Component 1', 'Component 2'])\n",
        "\n",
        "# Show the plot\n",
        "plt.show()\n"
      ],
      "metadata": {
        "colab": {
          "base_uri": "https://localhost:8080/",
          "height": 1000
        },
        "id": "nlXCOmyiPzkm",
        "outputId": "aa0d7f6e-3359-48cb-c452-b0a71a2813ec"
      },
      "execution_count": 26,
      "outputs": [
        {
          "output_type": "stream",
          "name": "stdout",
          "text": [
            "component                           0         1\n",
            "variable                                       \n",
            "speed_limit                  0.015348  0.001699\n",
            "age_of_oldest_driver         0.001686  0.000178\n",
            "accident_severity            0.016744  0.049658\n",
            "first_point_of_impact        0.000426  0.001759\n",
            "hit_object_off_carriageway   0.040428  0.005207\n",
            "junction_location            0.009964  0.004947\n",
            "light_conditions             0.011432  0.009470\n",
            "road_surface_conditions      0.015734  0.034457\n",
            "sex_of_driver                0.002697  0.003913\n",
            "skidding_and_overturning     0.021617  0.000245\n",
            "vehicle_leaving_carriageway  0.043919  0.005052\n",
            "vehicle_type                 0.006855  0.027461\n",
            "weather_conditions           0.009126  0.039823\n"
          ]
        },
        {
          "output_type": "display_data",
          "data": {
            "text/plain": [
              "<Figure size 800x600 with 1 Axes>"
            ],
            "image/png": "[encoded data removed]"
          },
          "metadata": {}
        }
      ]
    },
    {
      "cell_type": "markdown",
      "source": [
        "Standardising the 'speed_limit' column in the data set."
      ],
      "metadata": {
        "id": "V5tFXlgya1Ng"
      }
    },
    {
      "cell_type": "code",
      "source": [
        "numerical_columns = ['speed_limit']#\t'age_of_oldest_driver'\n",
        "\n",
        "#Standardizing (removing mean and dividing by standard deviation)\n",
        "from sklearn.preprocessing import StandardScaler\n",
        "scaler_num= StandardScaler()\n",
        "X['speed_limit']=scaler_num.fit_transform(X[['speed_limit']]) \n",
        "# X['age_of_oldest_driver']=scaler_num.fit_transform(X[['age_of_oldest_driver']]) \n",
        "\n",
        "X[['speed_limit']]#,'age_of_oldest_driver'"
      ],
      "metadata": {
        "colab": {
          "base_uri": "https://localhost:8080/",
          "height": 423
        },
        "id": "LxlbGCSC9SKE",
        "outputId": "c1b3dc4b-c359-4c7c-9c55-7c61f4b40f30"
      },
      "execution_count": 26,
      "outputs": [
        {
          "output_type": "execute_result",
          "data": {
            "text/plain": [
              "       speed_limit\n",
              "0        -0.478965\n",
              "1        -0.478965\n",
              "2         0.245465\n",
              "3         0.245465\n",
              "4        -0.478965\n",
              "...            ...\n",
              "31642    -0.478965\n",
              "31643     1.694325\n",
              "31644     2.418754\n",
              "31645    -0.478965\n",
              "31646    -1.203394\n",
              "\n",
              "[29303 rows x 1 columns]"
            ],
            "text/html": [
              "\n",
              "  <div id=\"df-29f093ee-ed1f-401d-9b01-ee08ae3d14c4\">\n",
              "    <div class=\"colab-df-container\">\n",
              "      <div>\n",
              "<style scoped>\n",
              "    .dataframe tbody tr th:only-of-type {\n",
              "        vertical-align: middle;\n",
              "    }\n",
              "\n",
              "    .dataframe tbody tr th {\n",
              "        vertical-align: top;\n",
              "    }\n",
              "\n",
              "    .dataframe thead th {\n",
              "        text-align: right;\n",
              "    }\n",
              "</style>\n",
              "<table border=\"1\" class=\"dataframe\">\n",
              "  <thead>\n",
              "    <tr style=\"text-align: right;\">\n",
              "      <th></th>\n",
              "      <th>speed_limit</th>\n",
              "    </tr>\n",
              "  </thead>\n",
              "  <tbody>\n",
              "    <tr>\n",
              "      <th>0</th>\n",
              "      <td>-0.478965</td>\n",
              "    </tr>\n",
              "    <tr>\n",
              "      <th>1</th>\n",
              "      <td>-0.478965</td>\n",
              "    </tr>\n",
              "    <tr>\n",
              "      <th>2</th>\n",
              "      <td>0.245465</td>\n",
              "    </tr>\n",
              "    <tr>\n",
              "      <th>3</th>\n",
              "      <td>0.245465</td>\n",
              "    </tr>\n",
              "    <tr>\n",
              "      <th>4</th>\n",
              "      <td>-0.478965</td>\n",
              "    </tr>\n",
              "    <tr>\n",
              "      <th>...</th>\n",
              "      <td>...</td>\n",
              "    </tr>\n",
              "    <tr>\n",
              "      <th>31642</th>\n",
              "      <td>-0.478965</td>\n",
              "    </tr>\n",
              "    <tr>\n",
              "      <th>31643</th>\n",
              "      <td>1.694325</td>\n",
              "    </tr>\n",
              "    <tr>\n",
              "      <th>31644</th>\n",
              "      <td>2.418754</td>\n",
              "    </tr>\n",
              "    <tr>\n",
              "      <th>31645</th>\n",
              "      <td>-0.478965</td>\n",
              "    </tr>\n",
              "    <tr>\n",
              "      <th>31646</th>\n",
              "      <td>-1.203394</td>\n",
              "    </tr>\n",
              "  </tbody>\n",
              "</table>\n",
              "<p>29303 rows × 1 columns</p>\n",
              "</div>\n",
              "      <button class=\"colab-df-convert\" onclick=\"convertToInteractive('df-29f093ee-ed1f-401d-9b01-ee08ae3d14c4')\"\n",
              "              title=\"Convert this dataframe to an interactive table.\"\n",
              "              style=\"display:none;\">\n",
              "        \n",
              "  <svg xmlns=\"http://www.w3.org/2000/svg\" height=\"24px\"viewBox=\"0 0 24 24\"\n",
              "       width=\"24px\">\n",
              "    <path d=\"M0 0h24v24H0V0z\" fill=\"none\"/>\n",
              "    <path d=\"M18.56 5.44l.94 2.06.94-2.06 2.06-.94-2.06-.94-.94-2.06-.94 2.06-2.06.94zm-11 1L8.5 8.5l.94-2.06 2.06-.94-2.06-.94L8.5 2.5l-.94 2.06-2.06.94zm10 10l.94 2.06.94-2.06 2.06-.94-2.06-.94-.94-2.06-.94 2.06-2.06.94z\"/><path d=\"M17.41 7.96l-1.37-1.37c-.4-.4-.92-.59-1.43-.59-.52 0-1.04.2-1.43.59L10.3 9.45l-7.72 7.72c-.78.78-.78 2.05 0 2.83L4 21.41c.39.39.9.59 1.41.59.51 0 1.02-.2 1.41-.59l7.78-7.78 2.81-2.81c.8-.78.8-2.07 0-2.86zM5.41 20L4 18.59l7.72-7.72 1.47 1.35L5.41 20z\"/>\n",
              "  </svg>\n",
              "      </button>\n",
              "      \n",
              "  <style>\n",
              "    .colab-df-container {\n",
              "      display:flex;\n",
              "      flex-wrap:wrap;\n",
              "      gap: 12px;\n",
              "    }\n",
              "\n",
              "    .colab-df-convert {\n",
              "      background-color: #E8F0FE;\n",
              "      border: none;\n",
              "      border-radius: 50%;\n",
              "      cursor: pointer;\n",
              "      display: none;\n",
              "      fill: #1967D2;\n",
              "      height: 32px;\n",
              "      padding: 0 0 0 0;\n",
              "      width: 32px;\n",
              "    }\n",
              "\n",
              "    .colab-df-convert:hover {\n",
              "      background-color: #E2EBFA;\n",
              "      box-shadow: 0px 1px 2px rgba(60, 64, 67, 0.3), 0px 1px 3px 1px rgba(60, 64, 67, 0.15);\n",
              "      fill: #174EA6;\n",
              "    }\n",
              "\n",
              "    [theme=dark] .colab-df-convert {\n",
              "      background-color: #3B4455;\n",
              "      fill: #D2E3FC;\n",
              "    }\n",
              "\n",
              "    [theme=dark] .colab-df-convert:hover {\n",
              "      background-color: #434B5C;\n",
              "      box-shadow: 0px 1px 3px 1px rgba(0, 0, 0, 0.15);\n",
              "      filter: drop-shadow(0px 1px 2px rgba(0, 0, 0, 0.3));\n",
              "      fill: #FFFFFF;\n",
              "    }\n",
              "  </style>\n",
              "\n",
              "      <script>\n",
              "        const buttonEl =\n",
              "          document.querySelector('#df-29f093ee-ed1f-401d-9b01-ee08ae3d14c4 button.colab-df-convert');\n",
              "        buttonEl.style.display =\n",
              "          google.colab.kernel.accessAllowed ? 'block' : 'none';\n",
              "\n",
              "        async function convertToInteractive(key) {\n",
              "          const element = document.querySelector('#df-29f093ee-ed1f-401d-9b01-ee08ae3d14c4');\n",
              "          const dataTable =\n",
              "            await google.colab.kernel.invokeFunction('convertToInteractive',\n",
              "                                                     [key], {});\n",
              "          if (!dataTable) return;\n",
              "\n",
              "          const docLinkHtml = 'Like what you see? Visit the ' +\n",
              "            '<a target=\"_blank\" href=https://colab.research.google.com/notebooks/data_table.ipynb>data table notebook</a>'\n",
              "            + ' to learn more about interactive tables.';\n",
              "          element.innerHTML = '';\n",
              "          dataTable['output_type'] = 'display_data';\n",
              "          await google.colab.output.renderOutput(dataTable, element);\n",
              "          const docLink = document.createElement('div');\n",
              "          docLink.innerHTML = docLinkHtml;\n",
              "          element.appendChild(docLink);\n",
              "        }\n",
              "      </script>\n",
              "    </div>\n",
              "  </div>\n",
              "  "
            ]
          },
          "metadata": {},
          "execution_count": 26
        }
      ]
    },
    {
      "cell_type": "markdown",
      "source": [
        "# Encodind the categorical features"
      ],
      "metadata": {
        "id": "HdItIfbubE0R"
      }
    },
    {
      "cell_type": "code",
      "source": [
        "from sklearn.compose import ColumnTransformer\n",
        "from sklearn.preprocessing import OneHotEncoder\n",
        "# define the transformation\n",
        "# ColumnTransformer takes a list of transformations. Each transformation is expressed\n",
        "# as a tuple (name, transformer, columns).\n",
        "ct = ColumnTransformer(\n",
        "    [\n",
        "        (\n",
        "            \"onehot_categorical\", # --> name of the transformation\n",
        "            OneHotEncoder(), # --> main function to apply \n",
        "        #     ['light_conditions', 'weather_conditions', 'road_surface_conditions', 'vehicle_type','junction_location','skidding_and_overturning','vehicle_leaving_carriageway','hit_object_off_carriageway','first_point_of_impact',\n",
        "        # 'sex_of_driver'], #-->columns to apply it to (we can give more than one column at once!)\n",
        "         ['speed_limit', 'light_conditions',\n",
        "       'weather_conditions', 'road_surface_conditions', 'vehicle_type',\n",
        "       'junction_location', 'skidding_and_overturning',\n",
        "       'vehicle_leaving_carriageway', 'hit_object_off_carriageway']\n",
        "        ),\n",
        "    ],\n",
        "    remainder=\"passthrough\", #--> what to do with the non-transformed columns. passthrough=keep them\n",
        "    verbose_feature_names_out=False #--> this keeps columns names simple. Try what happens if you set it as True\n",
        ")\n",
        "\n",
        "# create dataset copy for testing purposes\n",
        "# tmp_data_no_nans = data_no_nans.copy()\n",
        "\n",
        "# the output is an NUMPY ARRAY with the encoded columns.\n",
        "X= ct.fit_transform(X) \n",
        "\n"
      ],
      "metadata": {
        "id": "54R2jz4kkHAB"
      },
      "execution_count": 27,
      "outputs": []
    },
    {
      "cell_type": "markdown",
      "source": [
        "Label encoding the 'Y' the traget variable."
      ],
      "metadata": {
        "id": "BzXHJsLgbOUe"
      }
    },
    {
      "cell_type": "code",
      "source": [
        "from sklearn.preprocessing import LabelEncoder\n",
        "\n",
        "# create an object of the LabelEncoder class\n",
        "lblEncoder_Y = LabelEncoder()   \n",
        "\n",
        "# apply LblEncoder object to our target variables\n",
        "Y = lblEncoder_Y.fit_transform(Y['accident_severity']) \n",
        "print(Y)\n",
        "Yfortest = Y #note the combined name: original column + category (e.g. Gender_Female)\n"
      ],
      "metadata": {
        "colab": {
          "base_uri": "https://localhost:8080/",
          "height": 0
        },
        "id": "q_PF7XZ051ld",
        "outputId": "a45fcc33-e6f9-447d-a463-4c0dc2bfd678"
      },
      "execution_count": 28,
      "outputs": [
        {
          "output_type": "stream",
          "name": "stdout",
          "text": [
            "[1 0 1 ... 2 0 0]\n"
          ]
        }
      ]
    },
    {
      "cell_type": "markdown",
      "source": [
        "Splitting the Data."
      ],
      "metadata": {
        "id": "dlicbeGGeTXU"
      }
    },
    {
      "cell_type": "code",
      "source": [
        "from sklearn.model_selection import train_test_split\n",
        "\n",
        "X_train, X_test, y_train, y_test = train_test_split(X, Y, test_size=0.2, \n",
        "                                                    shuffle= True, random_state=42)"
      ],
      "metadata": {
        "id": "IUL49mZ74SyE"
      },
      "execution_count": 29,
      "outputs": []
    },
    {
      "cell_type": "markdown",
      "source": [
        "# Implementing SGD Classifier.\n",
        "\n",
        "\n",
        "\n"
      ],
      "metadata": {
        "id": "UTifZGsaek-B"
      }
    },
    {
      "cell_type": "code",
      "source": [
        "import warnings\n",
        "warnings.simplefilter(\"ignore\") \n",
        "\n",
        "param_grid={'eta0': np.logspace(-6,-1,5), \n",
        "           'learning_rate': ['constant', 'invscaling','adaptive'],\n",
        "          'max_iter': [20000]} \n",
        "\n",
        "lr = SGDClassifier(loss= 'log', class_weight='balanced')\n",
        "\n",
        "grid = GridSearchCV(estimator=lr, param_grid=param_grid, cv=10, scoring='accuracy', refit=True)\n",
        "grid = grid.fit(X_train, y_train)\n",
        "\n",
        "\n",
        "print('Best estimator: {}\\nWeights: {}, Intercept: {}\\nBest params: {}'.format(\n",
        "    grid.best_estimator_, grid.best_estimator_.coef_, grid.best_estimator_.intercept_,grid.best_params_))"
      ],
      "metadata": {
        "colab": {
          "base_uri": "https://localhost:8080/"
        },
        "id": "SW86pVub3eWs",
        "outputId": "f552864d-cf01-4e3a-9d6f-5b697cac0d7c"
      },
      "execution_count": 32,
      "outputs": [
        {
          "output_type": "stream",
          "name": "stdout",
          "text": [
            "Best estimator: SGDClassifier(class_weight='balanced', eta0=0.005623413251903491,\n",
            "              learning_rate='constant', loss='log', max_iter=20000)\n",
            "Weights: [[-1.17533119e+00 -1.19452042e+00 -9.80346295e-01 -9.17767142e-01\n",
            "   1.48475689e+00  2.85808248e+00  1.38127921e+00 -1.30640490e+00\n",
            "   4.76517939e-01  5.71303301e-01 -9.72946923e-01 -1.05541410e-01\n",
            "   1.80727353e-01  1.81785615e-01 -1.82097241e-01 -2.69392798e+00\n",
            "  -3.16855230e-02  3.25479266e+00 -2.26142563e-01 -2.28162279e-01\n",
            "  -3.20338173e-03  7.80776981e-02  6.91828653e-02  5.69145100e-03\n",
            "   1.73606833e-01 -9.87325170e-02  8.28823196e-02 -8.00800326e-03]\n",
            " [-3.45987337e-02  2.80615118e-02 -3.48972505e-02  6.01605092e-01\n",
            "   3.88971432e-01 -1.04260700e+00  3.06901308e-01 -4.00366260e-01\n",
            "  -5.96683597e-01 -4.04864949e-01  9.08083593e-01  6.46914440e-02\n",
            "  -6.85902962e-02 -2.42183348e-01  1.52617248e-01  2.59359690e+00\n",
            "  -6.95970860e-01 -9.06453878e-01 -7.85680403e-01 -2.98956711e-01\n",
            "  -4.04429695e-02 -5.30219827e-02  9.66936852e-03 -1.03134321e-01\n",
            "   1.29320358e-02 -1.06396988e-01  2.51431429e-02 -1.18608095e-01]\n",
            " [ 1.00813130e+00  9.29668055e-01  9.50124786e-01  2.93666221e-01\n",
            "  -1.75643113e+00 -2.05735736e+00 -1.62560072e+00  9.93402583e-01\n",
            "   2.59281227e-01 -1.17674262e-01 -7.73805101e-01 -1.59047531e-01\n",
            "  -1.68415562e-01 -3.68861787e-02 -2.67848863e-01 -1.95080100e+00\n",
            "   9.44206737e-01 -1.66383114e+00  1.31135771e+00  7.26869557e-01\n",
            "  -2.73142084e-01 -3.59056051e-01 -4.30627899e-01 -2.01570236e-01\n",
            "  -4.16302263e-01 -2.15895872e-01 -4.84263992e-01 -1.47934143e-01]], Intercept: [ 0.07436446 -0.09949849 -0.69516391]\n",
            "Best params: {'eta0': 0.005623413251903491, 'learning_rate': 'constant', 'max_iter': 20000}\n"
          ]
        }
      ]
    },
    {
      "cell_type": "markdown",
      "source": [
        "printing the accuracy for SGD."
      ],
      "metadata": {
        "id": "lwBmCzAhewd5"
      }
    },
    {
      "cell_type": "code",
      "source": [
        "# not that it's good practice to wrap common procedures into functions for ease of re-usability\n",
        "\n",
        "def evaluate_classifier(grid, x_train, y_train, x_test, y_test):\n",
        "    # model evaluation for training set\n",
        "    y_train_predict = grid.predict(x_train)\n",
        "    print(\"Training SET\")\n",
        "    print(\"--------------------------------------\")\n",
        "    print(f'Accuracy: {accuracy_score(y_train, y_train_predict):.3f}')\n",
        "\n",
        "    # model evaluation for testing set\n",
        "    y_test_predict = grid.predict(x_test)\n",
        "\n",
        "    print(\"\\nTesting SET\")\n",
        "    print(\"--------------------------------------\")\n",
        "    print(f'Accuracy: {accuracy_score(y_test, y_test_predict):.3f}')\n",
        "    print(classification_report(y_test, grid.predict(X_test)))\n",
        "    return y_train_predict, y_test_predict\n",
        "\n",
        "\n",
        "y_train_predict, y_test_predict = evaluate_classifier(grid, X_train, y_train, X_test, y_test)\n"
      ],
      "metadata": {
        "colab": {
          "base_uri": "https://localhost:8080/"
        },
        "id": "mHlgiOBQ4y_0",
        "outputId": "fb2a8c2f-1dbf-4caf-a725-eaf753dbff13"
      },
      "execution_count": 33,
      "outputs": [
        {
          "output_type": "stream",
          "name": "stdout",
          "text": [
            "Training SET\n",
            "--------------------------------------\n",
            "Accuracy: 0.768\n",
            "\n",
            "Testing SET\n",
            "--------------------------------------\n",
            "Accuracy: 0.761\n",
            "              precision    recall  f1-score   support\n",
            "\n",
            "           0       0.60      0.88      0.71      1143\n",
            "           1       0.81      0.70      0.75      2309\n",
            "           2       0.85      0.76      0.80      2409\n",
            "\n",
            "    accuracy                           0.76      5861\n",
            "   macro avg       0.75      0.78      0.75      5861\n",
            "weighted avg       0.78      0.76      0.76      5861\n",
            "\n"
          ]
        }
      ]
    },
    {
      "cell_type": "markdown",
      "source": [
        "# Implementing K - Nearest Neighbours (KNN) algorithm."
      ],
      "metadata": {
        "id": "X2jPh2pbe6s5"
      }
    },
    {
      "cell_type": "code",
      "source": [
        "from sklearn.neighbors import KNeighborsClassifier\n",
        "from sklearn.metrics import accuracy_score\n",
        "\n",
        "\n",
        "# we will use a classifier (we will skip details and what it does for now, so just use it as it is)\n",
        "knn=KNeighborsClassifier(n_neighbors=5)\n",
        "knn.fit(X_train, y_train) #train_labels['Target'])  \n",
        "## we train the classifier with the training data and labels: train_dataset_no_nans1 should be the training dataframe after:  \n",
        "## i) filling in all missing values, ii) encoding all categorical features and (maybe) after feature scaling\n",
        "\n",
        "# Checking the model's accuracy (performance); this should be performed on the test set and thus we use the test_dataset_no_nans and the test labels (after encoding)\n",
        "performance = knn.score(X_test,y_test)\n",
        "print(f'Performance is {performance:.3f}')"
      ],
      "metadata": {
        "colab": {
          "base_uri": "https://localhost:8080/",
          "height": 0
        },
        "id": "c-PVL5J3_DvW",
        "outputId": "a4f5f2bb-bf51-48dc-99f9-f73a5474ff3c"
      },
      "execution_count": 35,
      "outputs": [
        {
          "output_type": "stream",
          "name": "stdout",
          "text": [
            "Performance is 0.742\n"
          ]
        }
      ]
    },
    {
      "cell_type": "markdown",
      "source": [
        "Implementing 4 Different traditional models\n",
        "\n",
        "\n",
        "1.   Logistic regression\n",
        "2.   Decision Tree\n",
        "3.   Random Forest\n",
        "4.   KNN \n",
        "\n"
      ],
      "metadata": {
        "id": "ekNWtSRefK0Q"
      }
    },
    {
      "cell_type": "code",
      "source": [
        "\n",
        "# Load data and split into training and testing sets\n",
        "X_train, X_test, y_train, y_test = train_test_split(X, Y, test_size=0.2, random_state=42)\n",
        "\n",
        "# Split training set into training and validation sets\n",
        "X_train, X_val, y_train, y_val = train_test_split(X_train, y_train, test_size=0.2, random_state=42)\n",
        "\n",
        "# Define pipeline with StandardScaler, classifier, and grid search\n",
        "pipe_lr = Pipeline([(\"clf\", LogisticRegression())])\n",
        "pipe_dt = Pipeline([ (\"clf\", DecisionTreeClassifier())])\n",
        "pipe_rf = Pipeline([ (\"clf\", RandomForestClassifier())])\n",
        "pipe_knn = Pipeline([(\"clf\", KNeighborsClassifier())])\n",
        "\n",
        "param_grid_lr = {\"clf__C\": [0.1, 1.0, 10.0], \"clf__penalty\": [ \"l2\"]}\n",
        "param_grid_dt = {\"clf__max_depth\": [None, 5, 10], \"clf__min_samples_split\": [2, 5]}\n",
        "param_grid_rf = {\"clf__n_estimators\": [100, 500], \"clf__max_depth\": [None, 5, 10]}\n",
        "param_grid_knn = {\"clf__n_neighbors\": [3, 5, 7, 9]}\n",
        "\n",
        "# Create a dictionary to store the models and their corresponding hyperparameters\n",
        "models = {\n",
        "    \"logistic_regression\": {\"pipe\": pipe_lr, \"params\": param_grid_lr},\n",
        "    \"decision_tree\": {\"pipe\": pipe_dt, \"params\": param_grid_dt},\n",
        "    \"random_forest\": {\"pipe\": pipe_rf, \"params\": param_grid_rf},\n",
        "    \"knn\": {\"pipe\": pipe_knn, \"params\": param_grid_knn},\n",
        "}\n",
        "\n",
        "# Fit models and print accuracy scores on validation set\n",
        "for name, model in models.items():\n",
        "    print(\"Training\", name, \"model...\")\n",
        "    grid = GridSearchCV(model[\"pipe\"], param_grid=model[\"params\"], cv=5, n_jobs=-1)\n",
        "    grid.fit(X_train, y_train)\n",
        "    model[\"best_estimator\"] = grid.best_estimator_\n",
        "    print(\"Best parameters:\", grid.best_params_)\n",
        "    print(\"Training accuracy:\", accuracy_score(y_train, grid.predict(X_train)))\n",
        "    print(\"Validation accuracy:\", accuracy_score(y_val, grid.predict(X_val)))\n",
        "    print(\"Test accuracy:\", accuracy_score(y_test, grid.predict(X_test)))\n",
        "    print(name,\"Evaluation Metrics:\")\n",
        "    print(classification_report(y_test, grid.predict(X_test)))\n",
        "    print(\"Confusion Matrix:\")\n",
        "    print(confusion_matrix(y_test, grid.predict(X_test)))\n",
        "    cm = confusion_matrix(y_test,grid.predict(X_test))#, \n",
        "#                      labels= lblEncoder_Y.classes_) # this is to give the real categories, not their encoded numbers\n",
        "\n",
        "# let's show the confusion matrix in a plot\n",
        "    disp = ConfusionMatrixDisplay(confusion_matrix=cm)#,\n",
        "                               #display_labels= lblEncoder_Y.classes_) # this is to give the real categories, not their encoded numbers\n",
        "    disp.plot()\n",
        "    plt.show()\n",
        "\n",
        "# Evaluate the best model on the test set\n",
        "best_model = max(models.values(), key=lambda x: accuracy_score(y_val, x[\"best_estimator\"].predict(X_val)))\n",
        "print(\"Evaluating best model on the test set...\")\n",
        "print(\"Best parameters:\", best_model[\"best_estimator\"].get_params())\n",
        "print(\"Test accuracy:\", accuracy_score(y_test, best_model[\"best_estimator\"].predict(X_test)))\n"
      ],
      "metadata": {
        "colab": {
          "base_uri": "https://localhost:8080/",
          "height": 1000
        },
        "id": "GnQrBL3TKwZC",
        "outputId": "501c8df7-fa3f-4e65-f92a-9ebb6471b522"
      },
      "execution_count": null,
      "outputs": [
        {
          "output_type": "stream",
          "name": "stdout",
          "text": [
            "Training logistic_regression model...\n"
          ]
        },
        {
          "output_type": "stream",
          "name": "stderr",
          "text": [
            "/usr/local/lib/python3.9/dist-packages/sklearn/linear_model/_logistic.py:458: ConvergenceWarning: lbfgs failed to converge (status=1):\n",
            "STOP: TOTAL NO. of ITERATIONS REACHED LIMIT.\n",
            "\n",
            "Increase the number of iterations (max_iter) or scale the data as shown in:\n",
            "    https://scikit-learn.org/stable/modules/preprocessing.html\n",
            "Please also refer to the documentation for alternative solver options:\n",
            "    https://scikit-learn.org/stable/modules/linear_model.html#logistic-regression\n",
            "  n_iter_i = _check_optimize_result(\n"
          ]
        },
        {
          "output_type": "stream",
          "name": "stdout",
          "text": [
            "Best parameters: {'clf__C': 0.1, 'clf__penalty': 'l2'}\n",
            "Training accuracy: 0.7662240708153362\n",
            "Validation accuracy: 0.7705267647686074\n",
            "Test accuracy: 0.760450435079338\n",
            "logistic_regression Evaluation Metrics:\n",
            "              precision    recall  f1-score   support\n",
            "\n",
            "           0       0.60      0.86      0.71      1143\n",
            "           1       0.80      0.71      0.75      2309\n",
            "           2       0.85      0.76      0.80      2409\n",
            "\n",
            "    accuracy                           0.76      5861\n",
            "   macro avg       0.75      0.78      0.75      5861\n",
            "weighted avg       0.78      0.76      0.76      5861\n",
            "\n",
            "Confusion Matrix:\n",
            "[[ 983  125   35]\n",
            " [ 375 1641  293]\n",
            " [ 286  290 1833]]\n"
          ]
        },
        {
          "output_type": "display_data",
          "data": {
            "text/plain": [
              "<Figure size 640x480 with 2 Axes>"
            ],
            "image/png": "[encoded data removed]"
          },
          "metadata": {}
        },
        {
          "output_type": "stream",
          "name": "stdout",
          "text": [
            "Training decision_tree model...\n",
            "Best parameters: {'clf__max_depth': 10, 'clf__min_samples_split': 5}\n",
            "Training accuracy: 0.7801951687729963\n",
            "Validation accuracy: 0.7739390061846876\n",
            "Test accuracy: 0.7662514929192971\n",
            "decision_tree Evaluation Metrics:\n",
            "              precision    recall  f1-score   support\n",
            "\n",
            "           0       0.59      0.89      0.71      1143\n",
            "           1       0.81      0.72      0.76      2309\n",
            "           2       0.87      0.75      0.80      2409\n",
            "\n",
            "    accuracy                           0.77      5861\n",
            "   macro avg       0.76      0.79      0.76      5861\n",
            "weighted avg       0.79      0.77      0.77      5861\n",
            "\n",
            "Confusion Matrix:\n",
            "[[1019   85   39]\n",
            " [ 401 1666  242]\n",
            " [ 293  310 1806]]\n"
          ]
        },
        {
          "output_type": "display_data",
          "data": {
            "text/plain": [
              "<Figure size 640x480 with 2 Axes>"
            ],
            "image/png": "[encoded data removed]"
          },
          "metadata": {}
        },
        {
          "output_type": "stream",
          "name": "stdout",
          "text": [
            "Training random_forest model...\n",
            "Best parameters: {'clf__max_depth': 10, 'clf__n_estimators': 500}\n",
            "Training accuracy: 0.7829147336426172\n",
            "Validation accuracy: 0.7786308381317978\n",
            "Test accuracy: 0.7698344992322129\n",
            "random_forest Evaluation Metrics:\n",
            "              precision    recall  f1-score   support\n",
            "\n",
            "           0       0.60      0.89      0.72      1143\n",
            "           1       0.81      0.73      0.77      2309\n",
            "           2       0.87      0.76      0.81      2409\n",
            "\n",
            "    accuracy                           0.77      5861\n",
            "   macro avg       0.76      0.79      0.76      5861\n",
            "weighted avg       0.79      0.77      0.77      5861\n",
            "\n",
            "Confusion Matrix:\n",
            "[[1013   98   32]\n",
            " [ 379 1680  250]\n",
            " [ 290  300 1819]]\n"
          ]
        },
        {
          "output_type": "display_data",
          "data": {
            "text/plain": [
              "<Figure size 640x480 with 2 Axes>"
            ],
            "image/png": "[encoded data removed]"
          },
          "metadata": {}
        },
        {
          "output_type": "stream",
          "name": "stdout",
          "text": [
            "Training knn model...\n",
            "Best parameters: {'clf__n_neighbors': 9}\n",
            "Training accuracy: 0.7660107716098757\n",
            "Validation accuracy: 0.7579441245468117\n",
            "Test accuracy: 0.7537962804982085\n",
            "knn Evaluation Metrics:\n",
            "              precision    recall  f1-score   support\n",
            "\n",
            "           0       0.61      0.77      0.68      1143\n",
            "           1       0.77      0.74      0.76      2309\n",
            "           2       0.83      0.75      0.79      2409\n",
            "\n",
            "    accuracy                           0.75      5861\n",
            "   macro avg       0.74      0.76      0.74      5861\n",
            "weighted avg       0.77      0.75      0.76      5861\n",
            "\n",
            "Confusion Matrix:\n",
            "[[ 883  167   93]\n",
            " [ 324 1718  267]\n",
            " [ 251  341 1817]]\n"
          ]
        },
        {
          "output_type": "display_data",
          "data": {
            "text/plain": [
              "<Figure size 640x480 with 2 Axes>"
            ],
            "image/png": "[encoded data removed]"
          },
          "metadata": {}
        },
        {
          "output_type": "stream",
          "name": "stdout",
          "text": [
            "Evaluating best model on the test set...\n",
            "Best parameters: {'memory': None, 'steps': [('clf', RandomForestClassifier(max_depth=10, n_estimators=500))], 'verbose': False, 'clf': RandomForestClassifier(max_depth=10, n_estimators=500), 'clf__bootstrap': True, 'clf__ccp_alpha': 0.0, 'clf__class_weight': None, 'clf__criterion': 'gini', 'clf__max_depth': 10, 'clf__max_features': 'sqrt', 'clf__max_leaf_nodes': None, 'clf__max_samples': None, 'clf__min_impurity_decrease': 0.0, 'clf__min_samples_leaf': 1, 'clf__min_samples_split': 2, 'clf__min_weight_fraction_leaf': 0.0, 'clf__n_estimators': 500, 'clf__n_jobs': None, 'clf__oob_score': False, 'clf__random_state': None, 'clf__verbose': 0, 'clf__warm_start': False}\n",
            "Test accuracy: 0.7698344992322129\n"
          ]
        }
      ]
    },
    {
      "cell_type": "markdown",
      "source": [
        "# Neural Network"
      ],
      "metadata": {
        "id": "gZ2xOWiC17Ux"
      }
    },
    {
      "cell_type": "markdown",
      "source": [
        "Performing one hot encoding on Y"
      ],
      "metadata": {
        "id": "qi1q0PgUiuqa"
      }
    },
    {
      "cell_type": "code",
      "source": [
        "\n",
        "Y = pd.DataFrame(WorkingData,columns=['accident_severity'])"
      ],
      "metadata": {
        "id": "-vEhaKk_c7PQ"
      },
      "execution_count": 36,
      "outputs": []
    },
    {
      "cell_type": "code",
      "source": [
        "from sklearn.compose import ColumnTransformer\n",
        "from sklearn.preprocessing import OneHotEncoder\n",
        "# define the transformation\n",
        "# ColumnTransformer takes a list of transformations. Each transformation is expressed\n",
        "# as a tuple (name, transformer, columns).\n",
        "ct = ColumnTransformer(\n",
        "    [\n",
        "        (\n",
        "            \"onehot_categorical\", # --> name of the transformation\n",
        "            OneHotEncoder(), # --> main function to apply \n",
        "            ['accident_severity'], #-->columns to apply it to (we can give more than one column at once!)\n",
        "        ),\n",
        "    ],\n",
        "    remainder=\"passthrough\", #--> what to do with the non-transformed columns. passthrough=keep them\n",
        "    verbose_feature_names_out=False #--> this keeps columns names simple. Try what happens if you set it as True\n",
        ")\n",
        "\n",
        "# create dataset copy for testing purposes\n",
        "# tmp_data_no_nans = data_no_nans.copy()\n",
        "\n",
        "# the output is an NUMPY ARRAY with the encoded columns.\n",
        "y_encoded_array= ct.fit_transform(Y) \n",
        "\n",
        "\n"
      ],
      "metadata": {
        "id": "6JGn5MB02wDZ"
      },
      "execution_count": 37,
      "outputs": []
    },
    {
      "cell_type": "markdown",
      "source": [
        "Model 1 With one hidden layer with relu as the activation function."
      ],
      "metadata": {
        "id": "fY47AIRli9RI"
      }
    },
    {
      "cell_type": "code",
      "source": [
        "import tensorflow as tf\n",
        "from tensorflow.keras import datasets, layers, models\n",
        "from keras.utils import np_utils\n",
        "X_train, X_test, y_train, y_test = train_test_split(X, y_encoded_array,stratify = Y, train_size=0.9, random_state=42)\n",
        "\n",
        "# Split training set into training and validation sets\n",
        "#X_train, X_val, y_train, y_val = train_test_split(X_train, y_train, test_size=0.5, random_state=42)\n",
        "# create a simple model with ONE hidden layer only\n",
        "model = models.Sequential()\n",
        "# we will create a hidden layer with 20 nodes. \n",
        "hidden_layer1_nodes = 50\n",
        "\n",
        "num_of_input_features = X_train.shape[1] #number of features = number of columns in the input matrix\n",
        "\n",
        "# We can specify an input layer to tell Keras what input to expect.\n",
        "# we tell Keras how many features to expect for each datapoint. This way Keras\n",
        "# knows how many weights are needed between the input and the first hidden layer\n",
        "model.add(layers.Input(shape=(num_of_input_features,))) \n",
        "model.add(layers.Dense(hidden_layer1_nodes, activation='relu'))\n",
        "model.add(layers.Dense(3, activation='softmax')) #is it clear why here we use \"sigmoid\" and use \"softmax\" for multi-class problems?\n",
        "\n",
        "# as metric we choose the accuracy: the total number of correct predictions made\n",
        "# Adam is a typical choice for an optimizer and tends to perform well in practice\n",
        "# the most typical choice for the loss function is the binary cross entropy since \n",
        "# we are solving a binary classification task. If we were solving a multi-class classification\n",
        "# task, we'd choose the categorical cross entropy (that is, the more general version) \n",
        "learning_rate = 0.01\n",
        "model.compile(optimizer=tf.keras.optimizers.Adam(learning_rate=learning_rate),\n",
        "              loss=tf.keras.losses.CategoricalCrossentropy(), #we use this function for BINARY CLASSIFICATION\n",
        "              metrics=['accuracy'])\n",
        "\n",
        "# let's print a summary of the model to see what it's like\n",
        "print(model.summary())\n",
        "\n",
        "\n",
        "# compute class weights to counteract data imbalance\n",
        "from sklearn.utils import class_weight\n",
        "y_integers = np.argmax(y_train, axis=1)\n",
        "class_weights = class_weight.compute_class_weight(class_weight= \"balanced\", \n",
        "    classes = np.unique(y_integers), y = y_integers)\n",
        "\n",
        "# we turn the weights into a dictionary\n",
        "class_weights = dict(zip(np.unique(y_integers), class_weights))\n",
        "\n",
        "# Let's print the results\n",
        "# note that encoded label 0 corresponds to the original label 'N': there are fewer instances of 'N' so this class is given a higher weight in the loss function\n",
        "print(class_weights)\n",
        "\n",
        "\n",
        "# Training\n",
        "\n",
        "# let's define some relevant hyper-parameters:\n",
        "batch_size = 130 # The batch size indicates how many data points we use to compute each update to the parameters of the models (based on the gradient of the loss)\n",
        "epochs = 50 #how long we train the model for\n",
        "validation_split = 0.1  #Fraction of the training data to be used as validation data.\n",
        "history = model.fit(X_train, \n",
        "                    y_train, \n",
        "                    epochs=epochs, \n",
        "                    batch_size=batch_size, \n",
        "                    validation_split= validation_split,\n",
        "                    class_weight= class_weights,\n",
        "                    )\n",
        "# note that the output variable \"history\" keeps track of the model performance at each epoch\n",
        "\n",
        "# let's see what's within the 'history' variable\n",
        "history.history.keys()\n",
        "\n",
        "from sklearn.metrics import confusion_matrix, ConfusionMatrixDisplay, classification_report\n",
        "from sklearn.metrics import balanced_accuracy_score\n",
        "\n",
        "# Check performance on test data\n",
        "test_probabilities = model.predict(X_test)\n",
        "# There is a small difference from scikit-learn when we call .predict()\n",
        "# Keras returns the class probabilities rather than the predictions\n",
        "# For a binary classification problem, this is the probability that a data point\n",
        "# belongs to class 1.\n",
        "# So, to get the class we apply a threshold of 0.5: if the probability of being in\n",
        "# class 1 is higher than 0.5 we assign that data point to class 1, otherwise to\n",
        "# class 0. This is done by the following line:\n",
        "test_predictions = test_probabilities \n",
        "print(test_predictions)\n",
        "y_pred=np.argmax(test_predictions, axis=1)\n",
        "print(y_pred)\n",
        "y_test=np.argmax(y_test, axis=1)\n",
        "\n",
        "\n",
        "\n",
        "# let's show the classification report with all the metrics\n",
        "# think about which metrics you think are the most important ones for this problem!\n",
        "print(classification_report(y_test,y_pred)) \n",
        "                            #target_names= lblEncoder_Y.classes_)) # this is to give the real categories, not their encoded numbers\n",
        "\n",
        "# let's also print the balanced accuracy score, since we know the dataset is not balanced\n",
        "print(f'The balanced accuracy score is {balanced_accuracy_score(y_test,y_pred):.3f}\\n')\n",
        "\n",
        "# let's get all the numbers for the confusion matrix\n",
        "cm = confusion_matrix(y_test,y_pred)#, \n",
        "#                      labels= lblEncoder_Y.classes_) # this is to give the real categories, not their encoded numbers\n",
        "\n",
        "# let's show the confusion matrix in a plot\n",
        "disp = ConfusionMatrixDisplay(confusion_matrix=cm)#,\n",
        "                               #display_labels= lblEncoder_Y.classes_) # this is to give the real categories, not their encoded numbers\n",
        "disp.plot()\n",
        "plt.show()\n"
      ],
      "metadata": {
        "colab": {
          "base_uri": "https://localhost:8080/",
          "height": 2817
        },
        "id": "o95RC_CufzTM",
        "outputId": "5276159c-0fdd-4d80-bfcf-4c769ae8e099"
      },
      "execution_count": 41,
      "outputs": [
        {
          "output_type": "stream",
          "name": "stdout",
          "text": [
            "Model: \"sequential_7\"\n",
            "_________________________________________________________________\n",
            " Layer (type)                Output Shape              Param #   \n",
            "=================================================================\n",
            " dense_21 (Dense)            (None, 50)                1450      \n",
            "                                                                 \n",
            " dense_22 (Dense)            (None, 3)                 153       \n",
            "                                                                 \n",
            "=================================================================\n",
            "Total params: 1,603\n",
            "Trainable params: 1,603\n",
            "Non-trainable params: 0\n",
            "_________________________________________________________________\n",
            "None\n",
            "{0: 1.6465005931198102, 1: 0.8736500364407341, 2: 0.8012639382614772}\n",
            "Epoch 1/50\n",
            "183/183 [==============================] - 1s 4ms/step - loss: 0.6481 - accuracy: 0.7509 - val_loss: 0.6241 - val_accuracy: 0.7737\n",
            "Epoch 2/50\n",
            "183/183 [==============================] - 1s 4ms/step - loss: 0.5998 - accuracy: 0.7707 - val_loss: 0.6298 - val_accuracy: 0.7745\n",
            "Epoch 3/50\n",
            "183/183 [==============================] - 1s 4ms/step - loss: 0.5962 - accuracy: 0.7722 - val_loss: 0.6272 - val_accuracy: 0.7741\n",
            "Epoch 4/50\n",
            "183/183 [==============================] - 1s 4ms/step - loss: 0.5935 - accuracy: 0.7715 - val_loss: 0.5984 - val_accuracy: 0.7775\n",
            "Epoch 5/50\n",
            "183/183 [==============================] - 1s 5ms/step - loss: 0.5911 - accuracy: 0.7717 - val_loss: 0.6372 - val_accuracy: 0.7714\n",
            "Epoch 6/50\n",
            "183/183 [==============================] - 1s 4ms/step - loss: 0.5912 - accuracy: 0.7727 - val_loss: 0.6202 - val_accuracy: 0.7756\n",
            "Epoch 7/50\n",
            "183/183 [==============================] - 1s 3ms/step - loss: 0.5899 - accuracy: 0.7728 - val_loss: 0.5995 - val_accuracy: 0.7771\n",
            "Epoch 8/50\n",
            "183/183 [==============================] - 0s 2ms/step - loss: 0.5894 - accuracy: 0.7739 - val_loss: 0.6077 - val_accuracy: 0.7779\n",
            "Epoch 9/50\n",
            "183/183 [==============================] - 0s 2ms/step - loss: 0.5882 - accuracy: 0.7734 - val_loss: 0.6158 - val_accuracy: 0.7752\n",
            "Epoch 10/50\n",
            "183/183 [==============================] - 0s 2ms/step - loss: 0.5857 - accuracy: 0.7739 - val_loss: 0.6304 - val_accuracy: 0.7741\n",
            "Epoch 11/50\n",
            "183/183 [==============================] - 0s 2ms/step - loss: 0.5850 - accuracy: 0.7746 - val_loss: 0.6156 - val_accuracy: 0.7760\n",
            "Epoch 12/50\n",
            "183/183 [==============================] - 0s 2ms/step - loss: 0.5850 - accuracy: 0.7745 - val_loss: 0.6128 - val_accuracy: 0.7756\n",
            "Epoch 13/50\n",
            "183/183 [==============================] - 0s 2ms/step - loss: 0.5861 - accuracy: 0.7738 - val_loss: 0.6232 - val_accuracy: 0.7760\n",
            "Epoch 14/50\n",
            "183/183 [==============================] - 0s 2ms/step - loss: 0.5844 - accuracy: 0.7737 - val_loss: 0.6207 - val_accuracy: 0.7748\n",
            "Epoch 15/50\n",
            "183/183 [==============================] - 0s 2ms/step - loss: 0.5830 - accuracy: 0.7734 - val_loss: 0.6086 - val_accuracy: 0.7748\n",
            "Epoch 16/50\n",
            "183/183 [==============================] - 1s 3ms/step - loss: 0.5825 - accuracy: 0.7745 - val_loss: 0.6125 - val_accuracy: 0.7760\n",
            "Epoch 17/50\n",
            "183/183 [==============================] - 1s 3ms/step - loss: 0.5818 - accuracy: 0.7752 - val_loss: 0.6080 - val_accuracy: 0.7748\n",
            "Epoch 18/50\n",
            "183/183 [==============================] - 1s 3ms/step - loss: 0.5826 - accuracy: 0.7745 - val_loss: 0.6020 - val_accuracy: 0.7729\n",
            "Epoch 19/50\n",
            "183/183 [==============================] - 1s 3ms/step - loss: 0.5814 - accuracy: 0.7752 - val_loss: 0.6163 - val_accuracy: 0.7748\n",
            "Epoch 20/50\n",
            "183/183 [==============================] - 1s 3ms/step - loss: 0.5797 - accuracy: 0.7752 - val_loss: 0.6055 - val_accuracy: 0.7760\n",
            "Epoch 21/50\n",
            "183/183 [==============================] - 0s 2ms/step - loss: 0.5804 - accuracy: 0.7747 - val_loss: 0.6179 - val_accuracy: 0.7767\n",
            "Epoch 22/50\n",
            "183/183 [==============================] - 0s 2ms/step - loss: 0.5783 - accuracy: 0.7755 - val_loss: 0.6157 - val_accuracy: 0.7767\n",
            "Epoch 23/50\n",
            "183/183 [==============================] - 0s 2ms/step - loss: 0.5794 - accuracy: 0.7760 - val_loss: 0.6203 - val_accuracy: 0.7760\n",
            "Epoch 24/50\n",
            "183/183 [==============================] - 0s 2ms/step - loss: 0.5781 - accuracy: 0.7756 - val_loss: 0.6011 - val_accuracy: 0.7756\n",
            "Epoch 25/50\n",
            "183/183 [==============================] - 0s 2ms/step - loss: 0.5786 - accuracy: 0.7740 - val_loss: 0.6167 - val_accuracy: 0.7763\n",
            "Epoch 26/50\n",
            "183/183 [==============================] - 0s 2ms/step - loss: 0.5789 - accuracy: 0.7759 - val_loss: 0.6341 - val_accuracy: 0.7745\n",
            "Epoch 27/50\n",
            "183/183 [==============================] - 0s 2ms/step - loss: 0.5779 - accuracy: 0.7754 - val_loss: 0.6052 - val_accuracy: 0.7733\n",
            "Epoch 28/50\n",
            "183/183 [==============================] - 0s 2ms/step - loss: 0.5772 - accuracy: 0.7757 - val_loss: 0.6138 - val_accuracy: 0.7748\n",
            "Epoch 29/50\n",
            "183/183 [==============================] - 0s 2ms/step - loss: 0.5776 - accuracy: 0.7750 - val_loss: 0.6224 - val_accuracy: 0.7726\n",
            "Epoch 30/50\n",
            "183/183 [==============================] - 0s 2ms/step - loss: 0.5764 - accuracy: 0.7755 - val_loss: 0.6104 - val_accuracy: 0.7733\n",
            "Epoch 31/50\n",
            "183/183 [==============================] - 0s 2ms/step - loss: 0.5764 - accuracy: 0.7754 - val_loss: 0.6121 - val_accuracy: 0.7756\n",
            "Epoch 32/50\n",
            "183/183 [==============================] - 0s 2ms/step - loss: 0.5766 - accuracy: 0.7761 - val_loss: 0.6228 - val_accuracy: 0.7745\n",
            "Epoch 33/50\n",
            "183/183 [==============================] - 0s 2ms/step - loss: 0.5754 - accuracy: 0.7761 - val_loss: 0.6099 - val_accuracy: 0.7767\n",
            "Epoch 34/50\n",
            "183/183 [==============================] - 0s 2ms/step - loss: 0.5763 - accuracy: 0.7753 - val_loss: 0.6175 - val_accuracy: 0.7741\n",
            "Epoch 35/50\n",
            "183/183 [==============================] - 0s 2ms/step - loss: 0.5770 - accuracy: 0.7751 - val_loss: 0.6032 - val_accuracy: 0.7767\n",
            "Epoch 36/50\n",
            "183/183 [==============================] - 0s 2ms/step - loss: 0.5740 - accuracy: 0.7765 - val_loss: 0.6255 - val_accuracy: 0.7729\n",
            "Epoch 37/50\n",
            "183/183 [==============================] - 0s 2ms/step - loss: 0.5749 - accuracy: 0.7756 - val_loss: 0.6223 - val_accuracy: 0.7763\n",
            "Epoch 38/50\n",
            "183/183 [==============================] - 0s 2ms/step - loss: 0.5755 - accuracy: 0.7755 - val_loss: 0.6290 - val_accuracy: 0.7737\n",
            "Epoch 39/50\n",
            "183/183 [==============================] - 0s 2ms/step - loss: 0.5735 - accuracy: 0.7758 - val_loss: 0.6205 - val_accuracy: 0.7748\n",
            "Epoch 40/50\n",
            "183/183 [==============================] - 0s 2ms/step - loss: 0.5731 - accuracy: 0.7766 - val_loss: 0.6126 - val_accuracy: 0.7763\n",
            "Epoch 41/50\n",
            "183/183 [==============================] - 0s 2ms/step - loss: 0.5734 - accuracy: 0.7768 - val_loss: 0.6171 - val_accuracy: 0.7748\n",
            "Epoch 42/50\n",
            "183/183 [==============================] - 0s 2ms/step - loss: 0.5740 - accuracy: 0.7767 - val_loss: 0.6223 - val_accuracy: 0.7748\n",
            "Epoch 43/50\n",
            "183/183 [==============================] - 0s 2ms/step - loss: 0.5724 - accuracy: 0.7763 - val_loss: 0.6210 - val_accuracy: 0.7752\n",
            "Epoch 44/50\n",
            "183/183 [==============================] - 0s 2ms/step - loss: 0.5726 - accuracy: 0.7768 - val_loss: 0.6127 - val_accuracy: 0.7767\n",
            "Epoch 45/50\n",
            "183/183 [==============================] - 0s 3ms/step - loss: 0.5731 - accuracy: 0.7764 - val_loss: 0.6123 - val_accuracy: 0.7752\n",
            "Epoch 46/50\n",
            "183/183 [==============================] - 1s 3ms/step - loss: 0.5730 - accuracy: 0.7766 - val_loss: 0.6134 - val_accuracy: 0.7752\n",
            "Epoch 47/50\n",
            "183/183 [==============================] - 1s 3ms/step - loss: 0.5721 - accuracy: 0.7768 - val_loss: 0.6189 - val_accuracy: 0.7760\n",
            "Epoch 48/50\n",
            "183/183 [==============================] - 1s 3ms/step - loss: 0.5728 - accuracy: 0.7757 - val_loss: 0.6192 - val_accuracy: 0.7741\n",
            "Epoch 49/50\n",
            "183/183 [==============================] - 1s 3ms/step - loss: 0.5719 - accuracy: 0.7772 - val_loss: 0.6100 - val_accuracy: 0.7737\n",
            "Epoch 50/50\n",
            "183/183 [==============================] - 0s 3ms/step - loss: 0.5728 - accuracy: 0.7761 - val_loss: 0.6211 - val_accuracy: 0.7737\n",
            "92/92 [==============================] - 0s 1ms/step\n",
            "[[0.00687482 0.12732804 0.86579716]\n",
            " [0.00163122 0.8088454  0.18952331]\n",
            " [0.00211596 0.7915339  0.20635009]\n",
            " ...\n",
            " [0.6888127  0.09910452 0.21208282]\n",
            " [0.00211596 0.7915339  0.20635009]\n",
            " [0.7055101  0.13470595 0.15978394]]\n",
            "[2 1 1 ... 0 1 0]\n",
            "              precision    recall  f1-score   support\n",
            "\n",
            "           0       0.61      0.91      0.73       594\n",
            "           1       0.81      0.71      0.76      1118\n",
            "           2       0.87      0.76      0.81      1219\n",
            "\n",
            "    accuracy                           0.77      2931\n",
            "   macro avg       0.76      0.79      0.77      2931\n",
            "weighted avg       0.80      0.77      0.77      2931\n",
            "\n",
            "The balanced accuracy score is 0.794\n",
            "\n"
          ]
        },
        {
          "output_type": "display_data",
          "data": {
            "text/plain": [
              "<Figure size 640x480 with 2 Axes>"
            ],
            "image/png": "[encoded data removed]"
          },
          "metadata": {}
        }
      ]
    },
    {
      "cell_type": "markdown",
      "source": [
        "Plotting the graph for graphs for Loss vs Epoch and Accuracy vs Epoch. This is to check for overfitting.\n"
      ],
      "metadata": {
        "id": "LVD99bpxjHJ4"
      }
    },
    {
      "cell_type": "code",
      "source": [
        "# Plot training curves for both training and validation data\n",
        "# loss per epoch\n",
        "plt.figure()\n",
        "plt.plot(history.history['loss'], label='train_loss')\n",
        "plt.plot(history.history['val_loss'], label = 'val_loss')\n",
        "plt.xlabel('Epoch')\n",
        "plt.ylabel('Loss (binary cross-entropy)')\n",
        "plt.legend(loc='lower right')\n",
        "\n",
        "#accuracy per epoch\n",
        "plt.figure()\n",
        "plt.plot(history.history['accuracy'], label='train_accuracy')\n",
        "plt.plot(history.history['val_accuracy'], label = 'val_accuracy')\n",
        "plt.xlabel('Epoch')\n",
        "plt.ylabel('Accuracy')\n",
        "plt.legend(loc='lower right')"
      ],
      "metadata": {
        "colab": {
          "base_uri": "https://localhost:8080/",
          "height": 899
        },
        "id": "hpmWov6hgu59",
        "outputId": "cac06aaf-56aa-480f-ee9b-fc87e7f1a418"
      },
      "execution_count": 42,
      "outputs": [
        {
          "output_type": "execute_result",
          "data": {
            "text/plain": [
              "<matplotlib.legend.Legend at 0x7f135483b1c0>"
            ]
          },
          "metadata": {},
          "execution_count": 42
        },
        {
          "output_type": "display_data",
          "data": {
            "text/plain": [
              "<Figure size 640x480 with 1 Axes>"
            ],
            "image/png": "[encoded data removed]"
          },
          "metadata": {}
        },
        {
          "output_type": "display_data",
          "data": {
            "text/plain": [
              "<Figure size 640x480 with 1 Axes>"
            ],
            "image/png": "[encoded data removed]"
          },
          "metadata": {}
        }
      ]
    },
    {
      "cell_type": "markdown",
      "source": [
        "Model 2 with two hidden layers with softmax and relu as the activation funtions. We also implement dropout to avoid over fitting of the models."
      ],
      "metadata": {
        "id": "meeKILBxfv58"
      }
    },
    {
      "cell_type": "code",
      "source": [
        "import tensorflow as tf\n",
        "from sklearn.metrics import accuracy_score\n",
        "from tensorflow.keras import datasets, layers, models\n",
        "from sklearn.model_selection import GridSearchCV\n",
        "from keras.layers import Dense, Dropout\n",
        "# For example, let's compute and visualize how the accuracy changes with different learning rates\n",
        "\n",
        "# First, recreate the model. \n",
        "# We'll wrap the different stages into a function, since then it's easier to play with the parameters\n",
        "\n",
        "def create_model_multi_hidden(n_hidden=30, num_of_input_features= X_train.shape[1]):\n",
        "    model = models.Sequential()\n",
        "    model.add(layers.Input(shape=(num_of_input_features))) \n",
        "    \n",
        "    model.add(layers.Dense(n_hidden, activation='softmax'))\n",
        "    model.add(Dropout(0.2))\n",
        "    model.add(layers.Dense(n_hidden, activation='relu'))\n",
        "\n",
        "    model.add(layers.Dense(3, activation='softmax'))\n",
        "\n",
        "    return model\n",
        "\n",
        "def model_compile_and_training(model, X_train, y_train, #test_dataset_no_nans, test_encoded_labels,\n",
        "                               optimizer_name = 'Adam', learning_rate= 0.01,\n",
        "                               n_epochs= 200, batch_size=300,\n",
        "                               validation_split= 0.1):\n",
        "    if optimizer_name== 'Adam':\n",
        "        optimizer = tf.keras.optimizers.Adam(learning_rate= learning_rate)\n",
        "\n",
        "    # as metric we choose the accuracy: the total number of correct predictions made\n",
        "    model.compile(optimizer=optimizer,\n",
        "              loss=tf.keras.losses.CategoricalCrossentropy(),\n",
        "              metrics=['accuracy'])\n",
        "\n",
        "    #print(model.summary())\n",
        "\n",
        "    # Training\n",
        "    validation_split = 0.1  #Fraction of the training data to be used as validation data.\n",
        "    history = model.fit(X_train, \n",
        "                    y_train, \n",
        "                    epochs=n_epochs, \n",
        "                    batch_size=batch_size, \n",
        "                    validation_split= validation_split,\n",
        "                    verbose=0, #this avoids getting lots of output\n",
        "                    )\n",
        "    return model, history\n",
        "\n",
        "\n",
        "# Generate some random data for demonstration purposes\n",
        "import numpy as np\n",
        "from sklearn.datasets import make_classification\n",
        "from sklearn.preprocessing import OneHotEncoder\n",
        "\n",
        "# X, y = make_classification(n_samples=1000, n_features=10, n_classes=3, random_state=42)\n",
        "\n",
        "# Encode the target variable using one-hot encoding\n",
        "# encoder = OneHotEncoder(sparse=False)\n",
        "# y_one_hot = encoder.fit_transform(Y.reshape(-1, 1))\n",
        "\n",
        "# Split the data into training, validation, and test sets\n",
        "from sklearn.model_selection import train_test_split\n",
        "\n",
        "X_train, X_test, y_train, y_test = train_test_split(X, y_encoded_array, train_size=0.9, random_state=42)\n",
        "\n",
        "\n",
        "l_rates = [0.00001, 0.0001, 0.001, 0.01, 0.05]\n",
        "final_accuracies_train = []\n",
        "final_accuracies_val = []\n",
        "final_accuracies_test = []\n",
        "for i, l_rate in enumerate(l_rates):\n",
        "    model = create_model_multi_hidden()\n",
        "\n",
        "    model, history = model_compile_and_training(model, X_train, y_train, \n",
        "                               learning_rate= l_rate)\n",
        "\n",
        "    final_accuracies_train.append(history.history['accuracy'][-1])\n",
        "    final_accuracies_val.append(history.history['val_accuracy'][-1])\n",
        "    # predict the test labels and save the accuracy score\n",
        "    test_probabilities = model.predict(X_test)\n",
        "    test_predictions = np.argmax(test_probabilities, axis=1)\n",
        "    y_test_labels = np.argmax(y_test, axis=1)\n",
        "    final_accuracies_test.append(accuracy_score(y_test_labels, test_predictions))\n",
        "    # plot the results\n",
        "plt.figure()\n",
        "plt.plot(l_rates, final_accuracies_train, '-x', label='training accuracy')\n",
        "plt.plot(l_rates, final_accuracies_val, '-x', label= 'val accuracy')\n",
        "plt.plot(l_rates, final_accuracies_test, '-x', label= 'test accuracy')\n",
        "plt.xlabel('Learning rate')\n",
        "plt.ylabel('Final accuracy')\n",
        "_ =plt.legend()\n",
        "plt.show()\n",
        "\n",
        "best_learnig_rate=np.argmax(final_accuracies_val)\n",
        "print('best learnign rate',l_rates[best_learnig_rate])\n",
        "\n",
        "model = create_model_multi_hidden()\n",
        "\n",
        "model, history = model_compile_and_training(model, X_train, y_train, \n",
        "                               learning_rate= l_rates[best_learnig_rate])\n",
        "\n",
        "from sklearn.metrics import confusion_matrix, ConfusionMatrixDisplay, classification_report\n",
        "from sklearn.metrics import balanced_accuracy_score\n",
        "\n",
        "# Check performance on test data\n",
        "test_probabilities = model.predict(X_test)\n",
        "# There is a small difference from scikit-learn when we call .predict()\n",
        "# Keras returns the class probabilities rather than the predictions\n",
        "# For a binary classification problem, this is the probability that a data point\n",
        "# belongs to class 1.\n",
        "# So, to get the class we apply a threshold of 0.5: if the probability of being in\n",
        "# class 1 is higher than 0.5 we assign that data point to class 1, otherwise to\n",
        "# class 0. This is done by the following line:\n",
        "test_predictions = test_probabilities \n",
        "print(test_predictions)\n",
        "y_pred=np.argmax(test_predictions, axis=1)\n",
        "print(y_pred)\n",
        "y_test=np.argmax(y_test, axis=1)\n",
        "\n",
        "\n",
        "\n",
        "# let's show the classification report with all the metrics\n",
        "# think about which metrics you think are the most important ones for this problem!\n",
        "print(classification_report(y_test,y_pred)) \n",
        "                            #target_names= lblEncoder_Y.classes_)) # this is to give the real categories, not their encoded numbers\n",
        "\n",
        "# let's also print the balanced accuracy score, since we know the dataset is not balanced\n",
        "print(f'The balanced accuracy score is {balanced_accuracy_score(y_test,y_pred):.3f}\\n')\n",
        "\n",
        "# let's get all the numbers for the confusion matrix\n",
        "cm = confusion_matrix(y_test,y_pred)#, \n",
        "#                      labels= lblEncoder_Y.classes_) # this is to give the real categories, not their encoded numbers\n",
        "\n",
        "# let's show the confusion matrix in a plot\n",
        "disp = ConfusionMatrixDisplay(confusion_matrix=cm)#,\n",
        "                               #display_labels= lblEncoder_Y.classes_) # this is to give the real categories, not their encoded numbers\n",
        "disp.plot()\n",
        "plt.show()\n"
      ],
      "metadata": {
        "colab": {
          "base_uri": "https://localhost:8080/",
          "height": 1122
        },
        "id": "Xt_YDB_tcoAK",
        "outputId": "6efbb488-076f-4334-eb3b-1eec6df55f07"
      },
      "execution_count": 43,
      "outputs": [
        {
          "output_type": "stream",
          "name": "stdout",
          "text": [
            "92/92 [==============================] - 0s 2ms/step\n",
            "92/92 [==============================] - 0s 1ms/step\n",
            "92/92 [==============================] - 0s 1ms/step\n",
            "92/92 [==============================] - 0s 1ms/step\n",
            "92/92 [==============================] - 0s 1ms/step\n"
          ]
        },
        {
          "output_type": "display_data",
          "data": {
            "text/plain": [
              "<Figure size 640x480 with 1 Axes>"
            ],
            "image/png": "[encoded data removed]"
          },
          "metadata": {}
        },
        {
          "output_type": "stream",
          "name": "stdout",
          "text": [
            "best learnign rate 0.001\n",
            "92/92 [==============================] - 0s 1ms/step\n",
            "[[0.00833346 0.09634989 0.8953167 ]\n",
            " [0.00685962 0.6271291  0.36601126]\n",
            " [0.00345633 0.7942374  0.2023063 ]\n",
            " ...\n",
            " [0.803565   0.05762202 0.13881299]\n",
            " [0.02472777 0.13199289 0.8432793 ]\n",
            " [0.5181573  0.20925961 0.2725831 ]]\n",
            "[2 1 1 ... 0 2 0]\n",
            "              precision    recall  f1-score   support\n",
            "\n",
            "           0       0.60      0.90      0.72       573\n",
            "           1       0.82      0.74      0.77      1136\n",
            "           2       0.88      0.76      0.82      1222\n",
            "\n",
            "    accuracy                           0.78      2931\n",
            "   macro avg       0.77      0.80      0.77      2931\n",
            "weighted avg       0.80      0.78      0.78      2931\n",
            "\n",
            "The balanced accuracy score is 0.797\n",
            "\n"
          ]
        },
        {
          "output_type": "display_data",
          "data": {
            "text/plain": [
              "<Figure size 640x480 with 2 Axes>"
            ],
            "image/png": "[encoded data removed]"
          },
          "metadata": {}
        }
      ]
    },
    {
      "cell_type": "code",
      "source": [
        "# Plot training curves for both training and validation data\n",
        "# loss per epoch\n",
        "plt.figure()\n",
        "plt.plot(history.history['loss'], label='train_loss')\n",
        "plt.plot(history.history['val_loss'], label = 'val_loss')\n",
        "plt.xlabel('Epoch')\n",
        "plt.ylabel('Loss (binary cross-entropy)')\n",
        "plt.legend(loc='lower right')\n",
        "\n",
        "#accuracy per epoch\n",
        "plt.figure()\n",
        "plt.plot(history.history['accuracy'], label='train_accuracy')\n",
        "plt.plot(history.history['val_accuracy'], label = 'val_accuracy')\n",
        "plt.xlabel('Epoch')\n",
        "plt.ylabel('Accuracy')\n",
        "plt.legend(loc='lower right')"
      ],
      "metadata": {
        "colab": {
          "base_uri": "https://localhost:8080/",
          "height": 899
        },
        "id": "AFnX2OyZpUQH",
        "outputId": "08eeca47-d2a9-407f-d884-d3fbec048719"
      },
      "execution_count": 44,
      "outputs": [
        {
          "output_type": "execute_result",
          "data": {
            "text/plain": [
              "<matplotlib.legend.Legend at 0x7f135cd59c70>"
            ]
          },
          "metadata": {},
          "execution_count": 44
        },
        {
          "output_type": "display_data",
          "data": {
            "text/plain": [
              "<Figure size 640x480 with 1 Axes>"
            ],
            "image/png": "[encoded data removed]"
          },
          "metadata": {}
        },
        {
          "output_type": "display_data",
          "data": {
            "text/plain": [
              "<Figure size 640x480 with 1 Axes>"
            ],
            "image/png": "[encoded data removed]"
          },
          "metadata": {}
        }
      ]
    }
  ]
}